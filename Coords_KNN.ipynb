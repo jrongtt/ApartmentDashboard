{
 "cells": [
  {
   "cell_type": "code",
   "execution_count": 1,
   "id": "d1cba095",
   "metadata": {},
   "outputs": [],
   "source": [
    "import numpy as np\n",
    "import pandas as pd\n",
    "import matplotlib.pyplot as plt\n",
    "from geopy.geocoders import Nominatim\n",
    "from mpl_toolkits import mplot3d\n",
    "from sklearn import preprocessing\n",
    "from sklearn.tree import DecisionTreeRegressor\n",
    "from sklearn.linear_model import LinearRegression\n",
    "from sklearn.metrics import mean_absolute_error, mean_squared_error\n",
    "from sklearn.model_selection import train_test_split\n",
    "from numpy import linalg as LA"
   ]
  },
  {
   "cell_type": "code",
   "execution_count": 2,
   "id": "44fb30a3",
   "metadata": {},
   "outputs": [],
   "source": [
    "new_york = pd.read_csv('data_Coords/newyorkcoords.csv')"
   ]
  },
  {
   "cell_type": "code",
   "execution_count": 3,
   "id": "8018c9d1",
   "metadata": {},
   "outputs": [
    {
     "data": {
      "text/html": [
       "<div>\n",
       "<style scoped>\n",
       "    .dataframe tbody tr th:only-of-type {\n",
       "        vertical-align: middle;\n",
       "    }\n",
       "\n",
       "    .dataframe tbody tr th {\n",
       "        vertical-align: top;\n",
       "    }\n",
       "\n",
       "    .dataframe thead th {\n",
       "        text-align: right;\n",
       "    }\n",
       "</style>\n",
       "<table border=\"1\" class=\"dataframe\">\n",
       "  <thead>\n",
       "    <tr style=\"text-align: right;\">\n",
       "      <th></th>\n",
       "      <th>Unnamed: 0</th>\n",
       "      <th>index</th>\n",
       "      <th>Price</th>\n",
       "      <th>Beds</th>\n",
       "      <th>Baths</th>\n",
       "      <th>Post_Time</th>\n",
       "      <th>Address</th>\n",
       "      <th>City</th>\n",
       "      <th>State</th>\n",
       "      <th>Zipcode</th>\n",
       "      <th>Lat</th>\n",
       "      <th>Long</th>\n",
       "    </tr>\n",
       "  </thead>\n",
       "  <tbody>\n",
       "    <tr>\n",
       "      <th>0</th>\n",
       "      <td>0</td>\n",
       "      <td>4</td>\n",
       "      <td>$3,375</td>\n",
       "      <td>1 Bed</td>\n",
       "      <td>1 Bath</td>\n",
       "      <td>12m ago</td>\n",
       "      <td>20 Avenue A</td>\n",
       "      <td>New York</td>\n",
       "      <td>NY</td>\n",
       "      <td>10009</td>\n",
       "      <td>40.722721</td>\n",
       "      <td>-73.985637</td>\n",
       "    </tr>\n",
       "    <tr>\n",
       "      <th>1</th>\n",
       "      <td>1</td>\n",
       "      <td>6</td>\n",
       "      <td>$3,600</td>\n",
       "      <td>1 Bed</td>\n",
       "      <td>1 Bath</td>\n",
       "      <td>24m ago</td>\n",
       "      <td>Madison Ave &amp; E 30th St</td>\n",
       "      <td>New York</td>\n",
       "      <td>NY</td>\n",
       "      <td>10016</td>\n",
       "      <td>40.745435</td>\n",
       "      <td>-73.984525</td>\n",
       "    </tr>\n",
       "    <tr>\n",
       "      <th>2</th>\n",
       "      <td>2</td>\n",
       "      <td>7</td>\n",
       "      <td>$3,295</td>\n",
       "      <td>1 Bed</td>\n",
       "      <td>1 Bath</td>\n",
       "      <td>31m ago</td>\n",
       "      <td>Lexington Ave &amp; E 27th St</td>\n",
       "      <td>New York</td>\n",
       "      <td>NY</td>\n",
       "      <td>10016</td>\n",
       "      <td>40.742149</td>\n",
       "      <td>-73.982930</td>\n",
       "    </tr>\n",
       "    <tr>\n",
       "      <th>3</th>\n",
       "      <td>3</td>\n",
       "      <td>8</td>\n",
       "      <td>$3,500</td>\n",
       "      <td>1 Bed</td>\n",
       "      <td>1 Bath</td>\n",
       "      <td>34m ago</td>\n",
       "      <td>York Ave &amp; E 88th St</td>\n",
       "      <td>New York</td>\n",
       "      <td>NY</td>\n",
       "      <td>10128</td>\n",
       "      <td>40.777073</td>\n",
       "      <td>-73.946445</td>\n",
       "    </tr>\n",
       "    <tr>\n",
       "      <th>4</th>\n",
       "      <td>4</td>\n",
       "      <td>17</td>\n",
       "      <td>$4,400</td>\n",
       "      <td>1 Bed</td>\n",
       "      <td>1 Bath</td>\n",
       "      <td>3h ago</td>\n",
       "      <td>160 West 73rd Street</td>\n",
       "      <td>New York</td>\n",
       "      <td>NY</td>\n",
       "      <td>10023</td>\n",
       "      <td>40.778807</td>\n",
       "      <td>-73.980542</td>\n",
       "    </tr>\n",
       "    <tr>\n",
       "      <th>...</th>\n",
       "      <td>...</td>\n",
       "      <td>...</td>\n",
       "      <td>...</td>\n",
       "      <td>...</td>\n",
       "      <td>...</td>\n",
       "      <td>...</td>\n",
       "      <td>...</td>\n",
       "      <td>...</td>\n",
       "      <td>...</td>\n",
       "      <td>...</td>\n",
       "      <td>...</td>\n",
       "      <td>...</td>\n",
       "    </tr>\n",
       "    <tr>\n",
       "      <th>989</th>\n",
       "      <td>989</td>\n",
       "      <td>1655</td>\n",
       "      <td>$3,850</td>\n",
       "      <td>1 Bed</td>\n",
       "      <td>1 Bath</td>\n",
       "      <td>5d+ ago</td>\n",
       "      <td>2nd Ave &amp; E 39th St</td>\n",
       "      <td>New York</td>\n",
       "      <td>NY</td>\n",
       "      <td>10016</td>\n",
       "      <td>40.747616</td>\n",
       "      <td>-73.973981</td>\n",
       "    </tr>\n",
       "    <tr>\n",
       "      <th>990</th>\n",
       "      <td>990</td>\n",
       "      <td>1656</td>\n",
       "      <td>$3,995</td>\n",
       "      <td>1 Bed</td>\n",
       "      <td>1 Bath</td>\n",
       "      <td>5d+ ago</td>\n",
       "      <td>2nd Ave &amp; E 57th St</td>\n",
       "      <td>New York</td>\n",
       "      <td>NY</td>\n",
       "      <td>10022</td>\n",
       "      <td>40.759011</td>\n",
       "      <td>-73.965693</td>\n",
       "    </tr>\n",
       "    <tr>\n",
       "      <th>991</th>\n",
       "      <td>991</td>\n",
       "      <td>1658</td>\n",
       "      <td>$2,362</td>\n",
       "      <td>1 Bed</td>\n",
       "      <td>1 Bath</td>\n",
       "      <td>5d+ ago</td>\n",
       "      <td>2324 28th Ave</td>\n",
       "      <td>New York</td>\n",
       "      <td>NY</td>\n",
       "      <td>11102</td>\n",
       "      <td>43.211887</td>\n",
       "      <td>-75.728426</td>\n",
       "    </tr>\n",
       "    <tr>\n",
       "      <th>992</th>\n",
       "      <td>992</td>\n",
       "      <td>1663</td>\n",
       "      <td>$1,500</td>\n",
       "      <td>1 Bed</td>\n",
       "      <td>1 Bath</td>\n",
       "      <td>5d+ ago</td>\n",
       "      <td>Furness Pl</td>\n",
       "      <td>New York</td>\n",
       "      <td>NY</td>\n",
       "      <td>10314</td>\n",
       "      <td>40.584733</td>\n",
       "      <td>-74.151072</td>\n",
       "    </tr>\n",
       "    <tr>\n",
       "      <th>993</th>\n",
       "      <td>993</td>\n",
       "      <td>1664</td>\n",
       "      <td>$1,500</td>\n",
       "      <td>1 Bed</td>\n",
       "      <td>1 Bath</td>\n",
       "      <td>5d+ ago</td>\n",
       "      <td>61 Furness Pl</td>\n",
       "      <td>New York</td>\n",
       "      <td>NY</td>\n",
       "      <td>10314</td>\n",
       "      <td>40.585894</td>\n",
       "      <td>-74.152783</td>\n",
       "    </tr>\n",
       "  </tbody>\n",
       "</table>\n",
       "<p>994 rows × 12 columns</p>\n",
       "</div>"
      ],
      "text/plain": [
       "     Unnamed: 0  index   Price   Beds   Baths Post_Time  \\\n",
       "0             0      4  $3,375  1 Bed  1 Bath   12m ago   \n",
       "1             1      6  $3,600  1 Bed  1 Bath   24m ago   \n",
       "2             2      7  $3,295  1 Bed  1 Bath   31m ago   \n",
       "3             3      8  $3,500  1 Bed  1 Bath   34m ago   \n",
       "4             4     17  $4,400  1 Bed  1 Bath    3h ago   \n",
       "..          ...    ...     ...    ...     ...       ...   \n",
       "989         989   1655  $3,850  1 Bed  1 Bath   5d+ ago   \n",
       "990         990   1656  $3,995  1 Bed  1 Bath   5d+ ago   \n",
       "991         991   1658  $2,362  1 Bed  1 Bath   5d+ ago   \n",
       "992         992   1663  $1,500  1 Bed  1 Bath   5d+ ago   \n",
       "993         993   1664  $1,500  1 Bed  1 Bath   5d+ ago   \n",
       "\n",
       "                       Address      City State Zipcode        Lat       Long  \n",
       "0                 20 Avenue A   New York    NY   10009  40.722721 -73.985637  \n",
       "1     Madison Ave & E 30th St   New York    NY   10016  40.745435 -73.984525  \n",
       "2    Lexington Ave & E 27th St  New York    NY   10016  40.742149 -73.982930  \n",
       "3        York Ave & E 88th St   New York    NY   10128  40.777073 -73.946445  \n",
       "4         160 West 73rd Street  New York    NY   10023  40.778807 -73.980542  \n",
       "..                         ...       ...   ...     ...        ...        ...  \n",
       "989       2nd Ave & E 39th St   New York    NY   10016  40.747616 -73.973981  \n",
       "990        2nd Ave & E 57th St  New York    NY   10022  40.759011 -73.965693  \n",
       "991             2324 28th Ave   New York    NY   11102  43.211887 -75.728426  \n",
       "992                 Furness Pl  New York    NY   10314  40.584733 -74.151072  \n",
       "993              61 Furness Pl  New York    NY   10314  40.585894 -74.152783  \n",
       "\n",
       "[994 rows x 12 columns]"
      ]
     },
     "execution_count": 3,
     "metadata": {},
     "output_type": "execute_result"
    }
   ],
   "source": [
    "new_york"
   ]
  },
  {
   "cell_type": "code",
   "execution_count": 4,
   "id": "5398e399",
   "metadata": {},
   "outputs": [],
   "source": [
    "def clean_csv(df):        \n",
    "    df['Price'] = df['Price'].str.replace(',', '')\n",
    "    df['Price'] = df['Price'].replace({r'\\$':''}, regex = True).replace(\",\", \"\")\n",
    "    return df"
   ]
  },
  {
   "cell_type": "code",
   "execution_count": 5,
   "id": "8314ba39",
   "metadata": {},
   "outputs": [
    {
     "data": {
      "text/plain": [
       "Text(0, 0.5, 'Longitude')"
      ]
     },
     "execution_count": 5,
     "metadata": {},
     "output_type": "execute_result"
    },
    {
     "data": {
      "image/png": "[encoded data removed]",
      "text/plain": [
       "<Figure size 432x288 with 1 Axes>"
      ]
     },
     "metadata": {
      "needs_background": "light"
     },
     "output_type": "display_data"
    }
   ],
   "source": [
    "plt.title(\"New York Listings\")\n",
    "plt.scatter(new_york['Lat'], new_york['Long'])\n",
    "plt.xlabel('Latitude')\n",
    "plt.ylabel('Longitude')"
   ]
  },
  {
   "cell_type": "markdown",
   "id": "09a53cd5",
   "metadata": {},
   "source": [
    "## Remove outliers:\n",
    "\n",
    "As they represent listings outside the city"
   ]
  },
  {
   "cell_type": "code",
   "execution_count": 6,
   "id": "16763878",
   "metadata": {},
   "outputs": [],
   "source": [
    "df = pd.DataFrame(clean_csv(new_york))\n",
    "df1 = df.loc[df[\"Lat\"] < 41.3]\n",
    "df1 = df1.loc[df1[\"Long\"] < -73]"
   ]
  },
  {
   "cell_type": "code",
   "execution_count": 7,
   "id": "1b2efcb1",
   "metadata": {},
   "outputs": [
    {
     "data": {
      "text/plain": [
       "Text(0, 0.5, 'Longitude')"
      ]
     },
     "execution_count": 7,
     "metadata": {},
     "output_type": "execute_result"
    },
    {
     "data": {
      "image/png": "[encoded data removed]",
      "text/plain": [
       "<Figure size 432x288 with 1 Axes>"
      ]
     },
     "metadata": {
      "needs_background": "light"
     },
     "output_type": "display_data"
    }
   ],
   "source": [
    "plt.title(\"New York Listings\")\n",
    "plt.scatter(df1['Lat'], df1['Long'])\n",
    "plt.xlabel('Latitude')\n",
    "plt.ylabel('Longitude')"
   ]
  },
  {
   "cell_type": "code",
   "execution_count": 8,
   "id": "bc5331fc",
   "metadata": {},
   "outputs": [
    {
     "name": "stdout",
     "output_type": "stream",
     "text": [
      "Min and Max Latitudes: 40.5031627 40.90450673469174\n",
      "Min and Max Longitudes: -74.24649027734604 -73.7150497\n"
     ]
    }
   ],
   "source": [
    "print(\"Min and Max Latitudes:\", min(df1['Lat']), max(df1['Lat']))\n",
    "print(\"Min and Max Longitudes:\", min(df1['Long']), max(df1['Long']))"
   ]
  },
  {
   "cell_type": "code",
   "execution_count": 9,
   "id": "fe8dbe8b",
   "metadata": {},
   "outputs": [
    {
     "data": {
      "text/plain": [
       "(array([53., 53., 37., 19., 42., 78., 30., 11., 10., 10., 12.,  9., 10.,\n",
       "        11., 54., 46., 22., 14., 29., 22., 25., 19., 19., 36., 13., 10.,\n",
       "        20., 13., 16., 13.,  9., 12., 18., 12., 18., 13., 14., 10., 16.,\n",
       "        11., 10.,  7.,  9., 10., 12.,  7.,  8.,  8.,  7.,  8.]),\n",
       " array([  0.  ,   7.38,  14.76,  22.14,  29.52,  36.9 ,  44.28,  51.66,\n",
       "         59.04,  66.42,  73.8 ,  81.18,  88.56,  95.94, 103.32, 110.7 ,\n",
       "        118.08, 125.46, 132.84, 140.22, 147.6 , 154.98, 162.36, 169.74,\n",
       "        177.12, 184.5 , 191.88, 199.26, 206.64, 214.02, 221.4 , 228.78,\n",
       "        236.16, 243.54, 250.92, 258.3 , 265.68, 273.06, 280.44, 287.82,\n",
       "        295.2 , 302.58, 309.96, 317.34, 324.72, 332.1 , 339.48, 346.86,\n",
       "        354.24, 361.62, 369.  ]),\n",
       " <BarContainer object of 50 artists>)"
      ]
     },
     "execution_count": 9,
     "metadata": {},
     "output_type": "execute_result"
    },
    {
     "data": {
      "image/png": "[encoded data removed]",
      "text/plain": [
       "<Figure size 612x468 with 3 Axes>"
      ]
     },
     "metadata": {
      "needs_background": "light"
     },
     "output_type": "display_data"
    }
   ],
   "source": [
    "\n",
    "fig, axs = plt.subplots(3)\n",
    "fig.set_size_inches(8.5, 6.5)\n",
    "fig.suptitle('Histograms of latitude, longitude, price')\n",
    "axs[0].hist(df1['Lat'], bins=50)\n",
    "axs[1].hist(df1['Long'], bins = 50)\n",
    "axs[2].hist(df1['Price'], bins = 50)"
   ]
  },
  {
   "cell_type": "code",
   "execution_count": 10,
   "id": "1c19bf74",
   "metadata": {},
   "outputs": [
    {
     "data": {
      "text/html": [
       "<div>\n",
       "<style scoped>\n",
       "    .dataframe tbody tr th:only-of-type {\n",
       "        vertical-align: middle;\n",
       "    }\n",
       "\n",
       "    .dataframe tbody tr th {\n",
       "        vertical-align: top;\n",
       "    }\n",
       "\n",
       "    .dataframe thead th {\n",
       "        text-align: right;\n",
       "    }\n",
       "</style>\n",
       "<table border=\"1\" class=\"dataframe\">\n",
       "  <thead>\n",
       "    <tr style=\"text-align: right;\">\n",
       "      <th></th>\n",
       "      <th>latitude</th>\n",
       "      <th>longitude</th>\n",
       "      <th>price</th>\n",
       "    </tr>\n",
       "  </thead>\n",
       "  <tbody>\n",
       "    <tr>\n",
       "      <th>0</th>\n",
       "      <td>0.032013</td>\n",
       "      <td>-0.032039</td>\n",
       "      <td>0.028241</td>\n",
       "    </tr>\n",
       "    <tr>\n",
       "      <th>1</th>\n",
       "      <td>0.032031</td>\n",
       "      <td>-0.032038</td>\n",
       "      <td>0.030124</td>\n",
       "    </tr>\n",
       "    <tr>\n",
       "      <th>2</th>\n",
       "      <td>0.032028</td>\n",
       "      <td>-0.032037</td>\n",
       "      <td>0.027572</td>\n",
       "    </tr>\n",
       "    <tr>\n",
       "      <th>3</th>\n",
       "      <td>0.032056</td>\n",
       "      <td>-0.032022</td>\n",
       "      <td>0.029287</td>\n",
       "    </tr>\n",
       "    <tr>\n",
       "      <th>4</th>\n",
       "      <td>0.032057</td>\n",
       "      <td>-0.032036</td>\n",
       "      <td>0.036818</td>\n",
       "    </tr>\n",
       "    <tr>\n",
       "      <th>...</th>\n",
       "      <td>...</td>\n",
       "      <td>...</td>\n",
       "      <td>...</td>\n",
       "    </tr>\n",
       "    <tr>\n",
       "      <th>970</th>\n",
       "      <td>0.031986</td>\n",
       "      <td>-0.032028</td>\n",
       "      <td>0.030082</td>\n",
       "    </tr>\n",
       "    <tr>\n",
       "      <th>971</th>\n",
       "      <td>0.032033</td>\n",
       "      <td>-0.032033</td>\n",
       "      <td>0.032216</td>\n",
       "    </tr>\n",
       "    <tr>\n",
       "      <th>972</th>\n",
       "      <td>0.032041</td>\n",
       "      <td>-0.032030</td>\n",
       "      <td>0.033429</td>\n",
       "    </tr>\n",
       "    <tr>\n",
       "      <th>973</th>\n",
       "      <td>0.031904</td>\n",
       "      <td>-0.032110</td>\n",
       "      <td>0.012552</td>\n",
       "    </tr>\n",
       "    <tr>\n",
       "      <th>974</th>\n",
       "      <td>0.031905</td>\n",
       "      <td>-0.032111</td>\n",
       "      <td>0.012552</td>\n",
       "    </tr>\n",
       "  </tbody>\n",
       "</table>\n",
       "<p>975 rows × 3 columns</p>\n",
       "</div>"
      ],
      "text/plain": [
       "     latitude  longitude     price\n",
       "0    0.032013  -0.032039  0.028241\n",
       "1    0.032031  -0.032038  0.030124\n",
       "2    0.032028  -0.032037  0.027572\n",
       "3    0.032056  -0.032022  0.029287\n",
       "4    0.032057  -0.032036  0.036818\n",
       "..        ...        ...       ...\n",
       "970  0.031986  -0.032028  0.030082\n",
       "971  0.032033  -0.032033  0.032216\n",
       "972  0.032041  -0.032030  0.033429\n",
       "973  0.031904  -0.032110  0.012552\n",
       "974  0.031905  -0.032111  0.012552\n",
       "\n",
       "[975 rows x 3 columns]"
      ]
     },
     "execution_count": 10,
     "metadata": {},
     "output_type": "execute_result"
    }
   ],
   "source": [
    "lat_norm = (preprocessing.normalize([df1['Lat']])).flatten()\n",
    "long_norm = (preprocessing.normalize([df1['Long']])).flatten()\n",
    "price_norm = (preprocessing.normalize([df1['Price']])).flatten()\n",
    "\n",
    "# lat_norm = df1['Lat'] - 40\n",
    "# long_norm = df1['Long'] + 75\n",
    "# price = df1['Price']\n",
    "\n",
    "#df_norm = pd.DataFrame(Latitude = lat_norm)\n",
    "\n",
    "df_norm = pd.DataFrame(data={\"latitude\": lat_norm, \"longitude\": long_norm, \"price\": price_norm})\n",
    "\n",
    "df_norm"
   ]
  },
  {
   "cell_type": "code",
   "execution_count": 11,
   "id": "31a367fa",
   "metadata": {},
   "outputs": [
    {
     "data": {
      "text/plain": [
       "(array([ 6.,  6., 13., 39., 57., 47., 50., 43., 51., 34., 43., 40., 55.,\n",
       "        42., 42., 37., 59., 27., 39., 30., 26., 32., 25., 16., 13., 26.,\n",
       "        16., 16.,  6.,  1.,  6.,  6.,  4.,  4.,  1.,  1.,  1.,  6.,  0.,\n",
       "         2.,  1.,  0.,  2.,  1.,  1.,  0.,  0.,  0.,  1.,  1.]),\n",
       " array([0.00836779, 0.0098735 , 0.0113792 , 0.0128849 , 0.0143906 ,\n",
       "        0.0158963 , 0.017402  , 0.0189077 , 0.0204134 , 0.0219191 ,\n",
       "        0.0234248 , 0.0249305 , 0.02643621, 0.02794191, 0.02944761,\n",
       "        0.03095331, 0.03245901, 0.03396471, 0.03547041, 0.03697611,\n",
       "        0.03848181, 0.03998751, 0.04149321, 0.04299891, 0.04450462,\n",
       "        0.04601032, 0.04751602, 0.04902172, 0.05052742, 0.05203312,\n",
       "        0.05353882, 0.05504452, 0.05655022, 0.05805592, 0.05956162,\n",
       "        0.06106733, 0.06257303, 0.06407873, 0.06558443, 0.06709013,\n",
       "        0.06859583, 0.07010153, 0.07160723, 0.07311293, 0.07461863,\n",
       "        0.07612433, 0.07763004, 0.07913574, 0.08064144, 0.08214714,\n",
       "        0.08365284]),\n",
       " <BarContainer object of 50 artists>)"
      ]
     },
     "execution_count": 11,
     "metadata": {},
     "output_type": "execute_result"
    },
    {
     "data": {
      "image/png": "[encoded data removed]",
      "text/plain": [
       "<Figure size 612x468 with 3 Axes>"
      ]
     },
     "metadata": {
      "needs_background": "light"
     },
     "output_type": "display_data"
    }
   ],
   "source": [
    "\n",
    "fig, axs = plt.subplots(3)\n",
    "fig.set_size_inches(8.5, 6.5)\n",
    "fig.suptitle('Histograms of normalized latitude, longitude, price')\n",
    "axs[0].hist(df_norm['latitude'], bins=50)\n",
    "axs[1].hist(df_norm['longitude'], bins = 50)\n",
    "axs[2].hist(df_norm['price'], bins = 50)"
   ]
  },
  {
   "cell_type": "code",
   "execution_count": 12,
   "id": "1e99bc0f",
   "metadata": {},
   "outputs": [
    {
     "data": {
      "text/plain": [
       "0.9999999999999998"
      ]
     },
     "execution_count": 12,
     "metadata": {},
     "output_type": "execute_result"
    }
   ],
   "source": [
    "LA.norm(df_norm['latitude'])"
   ]
  },
  {
   "cell_type": "code",
   "execution_count": 13,
   "id": "da453a41",
   "metadata": {},
   "outputs": [],
   "source": []
  },
  {
   "cell_type": "code",
   "execution_count": 14,
   "id": "f41f3b3d",
   "metadata": {},
   "outputs": [
    {
     "data": {
      "image/png": "[encoded data removed]",
      "text/plain": [
       "<Figure size 432x288 with 1 Axes>"
      ]
     },
     "metadata": {
      "needs_background": "light"
     },
     "output_type": "display_data"
    }
   ],
   "source": []
  },
  {
   "cell_type": "code",
   "execution_count": 15,
   "id": "cc7bdabb",
   "metadata": {},
   "outputs": [
    {
     "data": {
      "image/png": "[encoded data removed]",
      "text/plain": [
       "<Figure size 432x288 with 1 Axes>"
      ]
     },
     "metadata": {
      "needs_background": "light"
     },
     "output_type": "display_data"
    }
   ],
   "source": [
    "\n",
    "%matplotlib inline\n",
    "fig = plt.figure()\n",
    "ax = plt.axes(projection='3d')\n",
    "\n",
    "ax = plt.axes(projection='3d')\n",
    "\n",
    "\n",
    "\n",
    "# Data for three-dimensional scattered points\n",
    "zdata = price_norm\n",
    "xdata = lat_norm\n",
    "ydata = long_norm\n",
    "ax.scatter3D(xdata, ydata, zdata, c=zdata, cmap='viridis');"
   ]
  },
  {
   "cell_type": "code",
   "execution_count": 16,
   "id": "6e8117c3",
   "metadata": {},
   "outputs": [
    {
     "data": {
      "text/plain": [
       "<AxesSubplot:>"
      ]
     },
     "execution_count": 16,
     "metadata": {},
     "output_type": "execute_result"
    },
    {
     "data": {
      "image/png": "[encoded data removed]",
      "text/plain": [
       "<Figure size 432x288 with 1 Axes>"
      ]
     },
     "metadata": {
      "needs_background": "light"
     },
     "output_type": "display_data"
    }
   ],
   "source": [
    "df1[\"Price\"].hist(bins=10)"
   ]
  },
  {
   "cell_type": "code",
   "execution_count": 17,
   "id": "c5290d9a",
   "metadata": {},
   "outputs": [
    {
     "data": {
      "text/html": [
       "<div>\n",
       "<style scoped>\n",
       "    .dataframe tbody tr th:only-of-type {\n",
       "        vertical-align: middle;\n",
       "    }\n",
       "\n",
       "    .dataframe tbody tr th {\n",
       "        vertical-align: top;\n",
       "    }\n",
       "\n",
       "    .dataframe thead th {\n",
       "        text-align: right;\n",
       "    }\n",
       "</style>\n",
       "<table border=\"1\" class=\"dataframe\">\n",
       "  <thead>\n",
       "    <tr style=\"text-align: right;\">\n",
       "      <th></th>\n",
       "      <th>Unnamed: 0</th>\n",
       "      <th>index</th>\n",
       "      <th>Price</th>\n",
       "      <th>Beds</th>\n",
       "      <th>Baths</th>\n",
       "      <th>Post_Time</th>\n",
       "      <th>Address</th>\n",
       "      <th>City</th>\n",
       "      <th>State</th>\n",
       "      <th>Zipcode</th>\n",
       "      <th>Lat</th>\n",
       "      <th>Long</th>\n",
       "    </tr>\n",
       "  </thead>\n",
       "  <tbody>\n",
       "    <tr>\n",
       "      <th>0</th>\n",
       "      <td>0</td>\n",
       "      <td>4</td>\n",
       "      <td>3375</td>\n",
       "      <td>1 Bed</td>\n",
       "      <td>1 Bath</td>\n",
       "      <td>12m ago</td>\n",
       "      <td>20 Avenue A</td>\n",
       "      <td>New York</td>\n",
       "      <td>NY</td>\n",
       "      <td>10009</td>\n",
       "      <td>40.722721</td>\n",
       "      <td>-73.985637</td>\n",
       "    </tr>\n",
       "    <tr>\n",
       "      <th>1</th>\n",
       "      <td>1</td>\n",
       "      <td>6</td>\n",
       "      <td>3600</td>\n",
       "      <td>1 Bed</td>\n",
       "      <td>1 Bath</td>\n",
       "      <td>24m ago</td>\n",
       "      <td>Madison Ave &amp; E 30th St</td>\n",
       "      <td>New York</td>\n",
       "      <td>NY</td>\n",
       "      <td>10016</td>\n",
       "      <td>40.745435</td>\n",
       "      <td>-73.984525</td>\n",
       "    </tr>\n",
       "    <tr>\n",
       "      <th>2</th>\n",
       "      <td>2</td>\n",
       "      <td>7</td>\n",
       "      <td>3295</td>\n",
       "      <td>1 Bed</td>\n",
       "      <td>1 Bath</td>\n",
       "      <td>31m ago</td>\n",
       "      <td>Lexington Ave &amp; E 27th St</td>\n",
       "      <td>New York</td>\n",
       "      <td>NY</td>\n",
       "      <td>10016</td>\n",
       "      <td>40.742149</td>\n",
       "      <td>-73.982930</td>\n",
       "    </tr>\n",
       "    <tr>\n",
       "      <th>3</th>\n",
       "      <td>3</td>\n",
       "      <td>8</td>\n",
       "      <td>3500</td>\n",
       "      <td>1 Bed</td>\n",
       "      <td>1 Bath</td>\n",
       "      <td>34m ago</td>\n",
       "      <td>York Ave &amp; E 88th St</td>\n",
       "      <td>New York</td>\n",
       "      <td>NY</td>\n",
       "      <td>10128</td>\n",
       "      <td>40.777073</td>\n",
       "      <td>-73.946445</td>\n",
       "    </tr>\n",
       "    <tr>\n",
       "      <th>4</th>\n",
       "      <td>4</td>\n",
       "      <td>17</td>\n",
       "      <td>4400</td>\n",
       "      <td>1 Bed</td>\n",
       "      <td>1 Bath</td>\n",
       "      <td>3h ago</td>\n",
       "      <td>160 West 73rd Street</td>\n",
       "      <td>New York</td>\n",
       "      <td>NY</td>\n",
       "      <td>10023</td>\n",
       "      <td>40.778807</td>\n",
       "      <td>-73.980542</td>\n",
       "    </tr>\n",
       "    <tr>\n",
       "      <th>...</th>\n",
       "      <td>...</td>\n",
       "      <td>...</td>\n",
       "      <td>...</td>\n",
       "      <td>...</td>\n",
       "      <td>...</td>\n",
       "      <td>...</td>\n",
       "      <td>...</td>\n",
       "      <td>...</td>\n",
       "      <td>...</td>\n",
       "      <td>...</td>\n",
       "      <td>...</td>\n",
       "      <td>...</td>\n",
       "    </tr>\n",
       "    <tr>\n",
       "      <th>988</th>\n",
       "      <td>988</td>\n",
       "      <td>1651</td>\n",
       "      <td>3595</td>\n",
       "      <td>1 Bed</td>\n",
       "      <td>1 Bath</td>\n",
       "      <td>5d+ ago</td>\n",
       "      <td>81 Clifton Pl</td>\n",
       "      <td>New York</td>\n",
       "      <td>NY</td>\n",
       "      <td>11238</td>\n",
       "      <td>40.688274</td>\n",
       "      <td>-73.960743</td>\n",
       "    </tr>\n",
       "    <tr>\n",
       "      <th>989</th>\n",
       "      <td>989</td>\n",
       "      <td>1655</td>\n",
       "      <td>3850</td>\n",
       "      <td>1 Bed</td>\n",
       "      <td>1 Bath</td>\n",
       "      <td>5d+ ago</td>\n",
       "      <td>2nd Ave &amp; E 39th St</td>\n",
       "      <td>New York</td>\n",
       "      <td>NY</td>\n",
       "      <td>10016</td>\n",
       "      <td>40.747616</td>\n",
       "      <td>-73.973981</td>\n",
       "    </tr>\n",
       "    <tr>\n",
       "      <th>990</th>\n",
       "      <td>990</td>\n",
       "      <td>1656</td>\n",
       "      <td>3995</td>\n",
       "      <td>1 Bed</td>\n",
       "      <td>1 Bath</td>\n",
       "      <td>5d+ ago</td>\n",
       "      <td>2nd Ave &amp; E 57th St</td>\n",
       "      <td>New York</td>\n",
       "      <td>NY</td>\n",
       "      <td>10022</td>\n",
       "      <td>40.759011</td>\n",
       "      <td>-73.965693</td>\n",
       "    </tr>\n",
       "    <tr>\n",
       "      <th>992</th>\n",
       "      <td>992</td>\n",
       "      <td>1663</td>\n",
       "      <td>1500</td>\n",
       "      <td>1 Bed</td>\n",
       "      <td>1 Bath</td>\n",
       "      <td>5d+ ago</td>\n",
       "      <td>Furness Pl</td>\n",
       "      <td>New York</td>\n",
       "      <td>NY</td>\n",
       "      <td>10314</td>\n",
       "      <td>40.584733</td>\n",
       "      <td>-74.151072</td>\n",
       "    </tr>\n",
       "    <tr>\n",
       "      <th>993</th>\n",
       "      <td>993</td>\n",
       "      <td>1664</td>\n",
       "      <td>1500</td>\n",
       "      <td>1 Bed</td>\n",
       "      <td>1 Bath</td>\n",
       "      <td>5d+ ago</td>\n",
       "      <td>61 Furness Pl</td>\n",
       "      <td>New York</td>\n",
       "      <td>NY</td>\n",
       "      <td>10314</td>\n",
       "      <td>40.585894</td>\n",
       "      <td>-74.152783</td>\n",
       "    </tr>\n",
       "  </tbody>\n",
       "</table>\n",
       "<p>975 rows × 12 columns</p>\n",
       "</div>"
      ],
      "text/plain": [
       "     Unnamed: 0  index Price   Beds   Baths Post_Time  \\\n",
       "0             0      4  3375  1 Bed  1 Bath   12m ago   \n",
       "1             1      6  3600  1 Bed  1 Bath   24m ago   \n",
       "2             2      7  3295  1 Bed  1 Bath   31m ago   \n",
       "3             3      8  3500  1 Bed  1 Bath   34m ago   \n",
       "4             4     17  4400  1 Bed  1 Bath    3h ago   \n",
       "..          ...    ...   ...    ...     ...       ...   \n",
       "988         988   1651  3595  1 Bed  1 Bath   5d+ ago   \n",
       "989         989   1655  3850  1 Bed  1 Bath   5d+ ago   \n",
       "990         990   1656  3995  1 Bed  1 Bath   5d+ ago   \n",
       "992         992   1663  1500  1 Bed  1 Bath   5d+ ago   \n",
       "993         993   1664  1500  1 Bed  1 Bath   5d+ ago   \n",
       "\n",
       "                       Address      City State Zipcode        Lat       Long  \n",
       "0                 20 Avenue A   New York    NY   10009  40.722721 -73.985637  \n",
       "1     Madison Ave & E 30th St   New York    NY   10016  40.745435 -73.984525  \n",
       "2    Lexington Ave & E 27th St  New York    NY   10016  40.742149 -73.982930  \n",
       "3        York Ave & E 88th St   New York    NY   10128  40.777073 -73.946445  \n",
       "4         160 West 73rd Street  New York    NY   10023  40.778807 -73.980542  \n",
       "..                         ...       ...   ...     ...        ...        ...  \n",
       "988             81 Clifton Pl   New York    NY   11238  40.688274 -73.960743  \n",
       "989       2nd Ave & E 39th St   New York    NY   10016  40.747616 -73.973981  \n",
       "990        2nd Ave & E 57th St  New York    NY   10022  40.759011 -73.965693  \n",
       "992                 Furness Pl  New York    NY   10314  40.584733 -74.151072  \n",
       "993              61 Furness Pl  New York    NY   10314  40.585894 -74.152783  \n",
       "\n",
       "[975 rows x 12 columns]"
      ]
     },
     "execution_count": 17,
     "metadata": {},
     "output_type": "execute_result"
    }
   ],
   "source": [
    "df1"
   ]
  },
  {
   "cell_type": "code",
   "execution_count": null,
   "id": "c006cf27",
   "metadata": {},
   "outputs": [],
   "source": []
  },
  {
   "cell_type": "code",
   "execution_count": 18,
   "id": "641b496f",
   "metadata": {},
   "outputs": [],
   "source": [
    "correlation_matrix = df1.corr()\n"
   ]
  },
  {
   "cell_type": "markdown",
   "id": "96bf3956",
   "metadata": {},
   "source": [
    "## The Problem:\n",
    "\n",
    "Can we predict the Price of a 1 Bedroom, 1 Bathroom in New York in a given Coordinate\n",
    "\n",
    "We will make two models:\n",
    "\n",
    "- 1: A Normal 3D Linear Regression with Scipy\n",
    "- 2: A ML 3D Regression with Sci-kit learn"
   ]
  },
  {
   "cell_type": "code",
   "execution_count": 19,
   "id": "d9d19c82",
   "metadata": {},
   "outputs": [],
   "source": [
    "X = df1[['Lat', 'Long']].copy()\n",
    "y = df1[['Price']].copy()"
   ]
  },
  {
   "cell_type": "code",
   "execution_count": 20,
   "id": "98a8ea6a",
   "metadata": {},
   "outputs": [
    {
     "data": {
      "text/html": [
       "<div>\n",
       "<style scoped>\n",
       "    .dataframe tbody tr th:only-of-type {\n",
       "        vertical-align: middle;\n",
       "    }\n",
       "\n",
       "    .dataframe tbody tr th {\n",
       "        vertical-align: top;\n",
       "    }\n",
       "\n",
       "    .dataframe thead th {\n",
       "        text-align: right;\n",
       "    }\n",
       "</style>\n",
       "<table border=\"1\" class=\"dataframe\">\n",
       "  <thead>\n",
       "    <tr style=\"text-align: right;\">\n",
       "      <th></th>\n",
       "      <th>Lat</th>\n",
       "      <th>Long</th>\n",
       "    </tr>\n",
       "  </thead>\n",
       "  <tbody>\n",
       "    <tr>\n",
       "      <th>0</th>\n",
       "      <td>40.722721</td>\n",
       "      <td>-73.985637</td>\n",
       "    </tr>\n",
       "    <tr>\n",
       "      <th>1</th>\n",
       "      <td>40.745435</td>\n",
       "      <td>-73.984525</td>\n",
       "    </tr>\n",
       "    <tr>\n",
       "      <th>2</th>\n",
       "      <td>40.742149</td>\n",
       "      <td>-73.982930</td>\n",
       "    </tr>\n",
       "    <tr>\n",
       "      <th>3</th>\n",
       "      <td>40.777073</td>\n",
       "      <td>-73.946445</td>\n",
       "    </tr>\n",
       "    <tr>\n",
       "      <th>4</th>\n",
       "      <td>40.778807</td>\n",
       "      <td>-73.980542</td>\n",
       "    </tr>\n",
       "    <tr>\n",
       "      <th>...</th>\n",
       "      <td>...</td>\n",
       "      <td>...</td>\n",
       "    </tr>\n",
       "    <tr>\n",
       "      <th>988</th>\n",
       "      <td>40.688274</td>\n",
       "      <td>-73.960743</td>\n",
       "    </tr>\n",
       "    <tr>\n",
       "      <th>989</th>\n",
       "      <td>40.747616</td>\n",
       "      <td>-73.973981</td>\n",
       "    </tr>\n",
       "    <tr>\n",
       "      <th>990</th>\n",
       "      <td>40.759011</td>\n",
       "      <td>-73.965693</td>\n",
       "    </tr>\n",
       "    <tr>\n",
       "      <th>992</th>\n",
       "      <td>40.584733</td>\n",
       "      <td>-74.151072</td>\n",
       "    </tr>\n",
       "    <tr>\n",
       "      <th>993</th>\n",
       "      <td>40.585894</td>\n",
       "      <td>-74.152783</td>\n",
       "    </tr>\n",
       "  </tbody>\n",
       "</table>\n",
       "<p>975 rows × 2 columns</p>\n",
       "</div>"
      ],
      "text/plain": [
       "           Lat       Long\n",
       "0    40.722721 -73.985637\n",
       "1    40.745435 -73.984525\n",
       "2    40.742149 -73.982930\n",
       "3    40.777073 -73.946445\n",
       "4    40.778807 -73.980542\n",
       "..         ...        ...\n",
       "988  40.688274 -73.960743\n",
       "989  40.747616 -73.973981\n",
       "990  40.759011 -73.965693\n",
       "992  40.584733 -74.151072\n",
       "993  40.585894 -74.152783\n",
       "\n",
       "[975 rows x 2 columns]"
      ]
     },
     "execution_count": 20,
     "metadata": {},
     "output_type": "execute_result"
    }
   ],
   "source": [
    "X"
   ]
  },
  {
   "cell_type": "code",
   "execution_count": 21,
   "id": "1b08e628",
   "metadata": {},
   "outputs": [
    {
     "data": {
      "text/plain": [
       "DecisionTreeRegressor(random_state=1)"
      ]
     },
     "execution_count": 21,
     "metadata": {},
     "output_type": "execute_result"
    }
   ],
   "source": [
    "model = DecisionTreeRegressor(random_state=1)\n",
    "model.fit(X, y)"
   ]
  },
  {
   "cell_type": "code",
   "execution_count": 22,
   "id": "e30b7f74",
   "metadata": {},
   "outputs": [
    {
     "name": "stdout",
     "output_type": "stream",
     "text": [
      "Making predictions for the following 5 houses:\n",
      "         Lat       Long\n",
      "0  40.722721 -73.985637\n",
      "1  40.745435 -73.984525\n",
      "2  40.742149 -73.982930\n",
      "3  40.777073 -73.946445\n",
      "4  40.778807 -73.980542\n",
      "The predictions are\n",
      "[3316.66666667 3600.         3295.         3500.         4200.        ]\n"
     ]
    }
   ],
   "source": [
    "print(\"Making predictions for the following 5 houses:\")\n",
    "print(X.head())\n",
    "print(\"The predictions are\")\n",
    "print(model.predict(X.head()))"
   ]
  },
  {
   "cell_type": "code",
   "execution_count": 23,
   "id": "6e150aa0",
   "metadata": {},
   "outputs": [
    {
     "name": "stdout",
     "output_type": "stream",
     "text": [
      "  Price\n",
      "0  3375\n",
      "1  3600\n",
      "2  3295\n",
      "3  3500\n",
      "4  4400\n"
     ]
    }
   ],
   "source": [
    "print(y.head())"
   ]
  },
  {
   "cell_type": "code",
   "execution_count": 51,
   "id": "09f29905",
   "metadata": {},
   "outputs": [
    {
     "name": "stdout",
     "output_type": "stream",
     "text": [
      "Mean Absolute Error:  1070.2956278322695\n",
      "Mean Squared Error:  1996778.9480839102\n",
      "RMSE:  1413.0742896549743\n"
     ]
    }
   ],
   "source": [
    "X_train, X_test, y_train, y_test = train_test_split(df1[['Lat', 'Long']], df1['Price'], test_size=0.2)\n",
    "\n",
    "# Train the linear regression model\n",
    "model = LinearRegression()\n",
    "model.fit(X_train, y_train)\n",
    "\n",
    "# Make predictions on the test set\n",
    "y_pred = model.predict(X_test)\n",
    "\n",
    "# Evaluate the model using mean absolute error and mean squared error\n",
    "mae = mean_absolute_error(y_test, y_pred)\n",
    "mse = mean_squared_error(y_test, y_pred)\n",
    "print(\"Mean Absolute Error: \", mae)\n",
    "print(\"Mean Squared Error: \", mse)\n",
    "print(\"RMSE: \", np.sqrt(mse))"
   ]
  },
  {
   "cell_type": "code",
   "execution_count": 52,
   "id": "4f78d185",
   "metadata": {},
   "outputs": [
    {
     "name": "stdout",
     "output_type": "stream",
     "text": [
      "Mean Absolute Error:  698.9381359381359\n",
      "Mean Squared Error:  1251033.9576656588\n",
      "RMSE:  1118.4962930942859\n"
     ]
    }
   ],
   "source": [
    "model = DecisionTreeRegressor()\n",
    "model.fit(X_train, y_train)\n",
    "\n",
    "# Make predictions on the test set\n",
    "y_pred = model.predict(X_test)\n",
    "\n",
    "# Evaluate the model using mean absolute error and mean squared error\n",
    "mae = mean_absolute_error(y_test, y_pred)\n",
    "mse = mean_squared_error(y_test, y_pred)\n",
    "print(\"Mean Absolute Error: \", mae)\n",
    "print(\"Mean Squared Error: \", mse)\n",
    "print(\"RMSE: \", np.sqrt(mse))"
   ]
  },
  {
   "cell_type": "code",
   "execution_count": 46,
   "id": "7f8e3282",
   "metadata": {},
   "outputs": [
    {
     "name": "stdout",
     "output_type": "stream",
     "text": [
      "Normalized Mean Absolute Error:  0.0061629646618457535\n",
      "Normailzed Mean Squared Error:  9.113554681277528e-05\n",
      "Normalized RMSE:  0.009546493953948501\n"
     ]
    }
   ],
   "source": [
    "# Split the data into training and test sets\n",
    "X_train, X_test, y_train, y_test = train_test_split(df_norm[['latitude', 'longitude']], df_norm['price'], test_size=0.2)\n",
    "\n",
    "# Train the Decision Tree Regression model\n",
    "model = DecisionTreeRegressor()\n",
    "model.fit(X_train, y_train)\n",
    "\n",
    "# Make predictions on the test set\n",
    "y_pred = model.predict(X_test)\n",
    "\n",
    "# Evaluate the model using mean absolute error and  mean squared error\n",
    "mae = mean_absolute_error(y_test, y_pred)\n",
    "mse = mean_squared_error(y_test, y_pred)\n",
    "print(\"Normalized Mean Absolute Error: \", mae)\n",
    "print(\"Normailzed Mean Squared Error: \", mse)\n",
    "print(\"Normalized RMSE: \", np.sqrt(mse))"
   ]
  },
  {
   "cell_type": "code",
   "execution_count": 47,
   "id": "23e18678",
   "metadata": {},
   "outputs": [
    {
     "name": "stdout",
     "output_type": "stream",
     "text": [
      "40.5031627 40.90450673469174 -74.24649027734604 -73.7150497\n"
     ]
    }
   ],
   "source": [
    "min_alt = min(df1['Lat'])\n",
    "max_alt = max(df1['Lat'])\n",
    "min_long = min(df1['Long'])\n",
    "max_long = max(df1['Long'])\n",
    "print(min_alt, max_alt, min_long, max_long)"
   ]
  },
  {
   "cell_type": "code",
   "execution_count": 45,
   "id": "f7ca9b93",
   "metadata": {},
   "outputs": [
    {
     "data": {
      "text/plain": [
       "array([0.04803114, 0.0464831 , 0.01589881, 0.01757237, 0.01338847,\n",
       "       0.04485138, 0.03342934, 0.05480905, 0.021045  , 0.01250985,\n",
       "       0.04485138, 0.03639991, 0.03891024, 0.03221601, 0.01464364,\n",
       "       0.01757237, 0.02794843, 0.02594016, 0.05941134, 0.02171443,\n",
       "       0.0205011 , 0.02788846, 0.03179762, 0.02928728, 0.04426563,\n",
       "       0.05480905, 0.03514474, 0.01661426, 0.03953783, 0.01548042,\n",
       "       0.01673559, 0.02462084, 0.00920457, 0.02635855, 0.0333875 ,\n",
       "       0.02342982, 0.04204817, 0.0366091 , 0.03158842, 0.03008222,\n",
       "       0.04084041, 0.02677694, 0.01568961, 0.0413118 , 0.0267351 ,\n",
       "       0.02757188, 0.02087765, 0.06485041, 0.02677694, 0.01840915,\n",
       "       0.05941134, 0.02695476, 0.02217465, 0.02750912, 0.03849185,\n",
       "       0.01338847, 0.01757237, 0.01004135, 0.03179762, 0.01661426,\n",
       "       0.02347166, 0.02594016, 0.01589881, 0.03656726, 0.03305279,\n",
       "       0.05068493, 0.01129652, 0.04363805, 0.03656726, 0.03876799,\n",
       "       0.01297008, 0.0214355 , 0.01506203, 0.03175578, 0.04203422,\n",
       "       0.03342934, 0.02757188, 0.04791957, 0.01464364, 0.04945366,\n",
       "       0.02444902, 0.02672464, 0.03012406, 0.03426612, 0.02594016,\n",
       "       0.03284359, 0.03600766, 0.01589881, 0.01464364, 0.03681829,\n",
       "       0.0366091 , 0.02217465, 0.02280224, 0.01422525, 0.04598103,\n",
       "       0.02008271, 0.02444902, 0.04054196, 0.05020677, 0.02358323,\n",
       "       0.03600766, 0.03221601, 0.04183897, 0.0333875 , 0.05137826,\n",
       "       0.04204817, 0.05736123, 0.05626923, 0.03547945, 0.02175627,\n",
       "       0.03744588, 0.05626923, 0.01464364, 0.04351253, 0.01757237,\n",
       "       0.03158842, 0.02008271, 0.01506203, 0.02635855, 0.02011618,\n",
       "       0.03765507, 0.01506203, 0.01924593, 0.03054245, 0.03342934,\n",
       "       0.03765507, 0.01673559, 0.03426612, 0.01255169, 0.03546271,\n",
       "       0.04301046, 0.02788846, 0.00920457, 0.03740404, 0.02594016,\n",
       "       0.01673559, 0.03556313, 0.030919  , 0.01756818, 0.04765459,\n",
       "       0.01573145, 0.01598249, 0.03284359, 0.03744588, 0.02217465,\n",
       "       0.04426563, 0.01506203, 0.03426612, 0.01882754, 0.02928728,\n",
       "       0.02679535, 0.01506203, 0.00920457, 0.02672464, 0.04784705,\n",
       "       0.0413118 , 0.02255121, 0.04765459, 0.01673559, 0.02719533,\n",
       "       0.03368037, 0.03221601, 0.01568961, 0.01506203, 0.04727804,\n",
       "       0.02008271, 0.03744588, 0.02444902, 0.02679535, 0.02091949,\n",
       "       0.02171443, 0.04706884, 0.0242666 , 0.01673559, 0.0284505 ,\n",
       "       0.03953783, 0.02133788, 0.04803114, 0.02347166, 0.02338798,\n",
       "       0.04602287, 0.0163172 , 0.05568767, 0.04204817, 0.00920457,\n",
       "       0.03179762, 0.02280224, 0.02171443, 0.03420336, 0.04183897,\n",
       "       0.04560448, 0.03342934, 0.02594016, 0.06395505, 0.02008271])"
      ]
     },
     "execution_count": 45,
     "metadata": {},
     "output_type": "execute_result"
    }
   ],
   "source": [
    "y_pred"
   ]
  },
  {
   "cell_type": "code",
   "execution_count": 53,
   "id": "0544af27",
   "metadata": {},
   "outputs": [
    {
     "data": {
      "text/html": [
       "<div>\n",
       "<style scoped>\n",
       "    .dataframe tbody tr th:only-of-type {\n",
       "        vertical-align: middle;\n",
       "    }\n",
       "\n",
       "    .dataframe tbody tr th {\n",
       "        vertical-align: top;\n",
       "    }\n",
       "\n",
       "    .dataframe thead th {\n",
       "        text-align: right;\n",
       "    }\n",
       "</style>\n",
       "<table border=\"1\" class=\"dataframe\">\n",
       "  <thead>\n",
       "    <tr style=\"text-align: right;\">\n",
       "      <th></th>\n",
       "      <th>Lat</th>\n",
       "      <th>Long</th>\n",
       "    </tr>\n",
       "  </thead>\n",
       "  <tbody>\n",
       "    <tr>\n",
       "      <th>628</th>\n",
       "      <td>40.830869</td>\n",
       "      <td>-73.948654</td>\n",
       "    </tr>\n",
       "    <tr>\n",
       "      <th>184</th>\n",
       "      <td>40.746175</td>\n",
       "      <td>-73.956658</td>\n",
       "    </tr>\n",
       "    <tr>\n",
       "      <th>705</th>\n",
       "      <td>40.756139</td>\n",
       "      <td>-73.985102</td>\n",
       "    </tr>\n",
       "    <tr>\n",
       "      <th>588</th>\n",
       "      <td>40.661248</td>\n",
       "      <td>-73.897830</td>\n",
       "    </tr>\n",
       "    <tr>\n",
       "      <th>105</th>\n",
       "      <td>40.740446</td>\n",
       "      <td>-73.979513</td>\n",
       "    </tr>\n",
       "    <tr>\n",
       "      <th>...</th>\n",
       "      <td>...</td>\n",
       "      <td>...</td>\n",
       "    </tr>\n",
       "    <tr>\n",
       "      <th>210</th>\n",
       "      <td>40.620620</td>\n",
       "      <td>-73.991423</td>\n",
       "    </tr>\n",
       "    <tr>\n",
       "      <th>313</th>\n",
       "      <td>40.673010</td>\n",
       "      <td>-73.939293</td>\n",
       "    </tr>\n",
       "    <tr>\n",
       "      <th>684</th>\n",
       "      <td>40.753023</td>\n",
       "      <td>-73.967009</td>\n",
       "    </tr>\n",
       "    <tr>\n",
       "      <th>401</th>\n",
       "      <td>40.617333</td>\n",
       "      <td>-74.026755</td>\n",
       "    </tr>\n",
       "    <tr>\n",
       "      <th>925</th>\n",
       "      <td>40.759593</td>\n",
       "      <td>-73.968058</td>\n",
       "    </tr>\n",
       "  </tbody>\n",
       "</table>\n",
       "<p>195 rows × 2 columns</p>\n",
       "</div>"
      ],
      "text/plain": [
       "           Lat       Long\n",
       "628  40.830869 -73.948654\n",
       "184  40.746175 -73.956658\n",
       "705  40.756139 -73.985102\n",
       "588  40.661248 -73.897830\n",
       "105  40.740446 -73.979513\n",
       "..         ...        ...\n",
       "210  40.620620 -73.991423\n",
       "313  40.673010 -73.939293\n",
       "684  40.753023 -73.967009\n",
       "401  40.617333 -74.026755\n",
       "925  40.759593 -73.968058\n",
       "\n",
       "[195 rows x 2 columns]"
      ]
     },
     "execution_count": 53,
     "metadata": {},
     "output_type": "execute_result"
    }
   ],
   "source": [
    "X_test"
   ]
  },
  {
   "cell_type": "code",
   "execution_count": 93,
   "id": "1a876005",
   "metadata": {},
   "outputs": [],
   "source": [
    "# i = min_alt\n",
    "# j = min_long\n",
    "# no_coords = ((max_alt-i)*(max_long-min_long))\n",
    "# no_coords = 100\n",
    "\n",
    "\n",
    "# df_pred = pd.DataFrame(np.empty([no_coords, 3], dtype=str), columns =['Lat', 'Long','Price'])\n",
    "# k = 0\n",
    "# l = 0\n",
    "# while (k < no_coords and i < max_alt and j < max_long):\n",
    "#     df_pred.iloc[k, 0] = i\n",
    "#     df_pred.iloc[k, 1] = j\n",
    "#     i += 0.0035\n",
    "#     j += 0.0035\n",
    "#     k += 1\n",
    "\n",
    "\n",
    "df_pred = pd.DataFrame(np.empty([10000, 2], dtype=str), columns =['Lat', 'Long'])\n",
    "\n",
    "k = min_alt\n",
    "l = min_long\n",
    "\n",
    "index = 0\n",
    "for i in range(100):\n",
    "    k = min_alt\n",
    "    for j in range(100):\n",
    "        df_pred.iloc[index,0] = k\n",
    "        df_pred.iloc[index,1] = l\n",
    "        k += 0.0035\n",
    "        index += 1\n",
    "    l += 0.0035\n",
    "    "
   ]
  },
  {
   "cell_type": "code",
   "execution_count": 98,
   "id": "6bdc3065",
   "metadata": {},
   "outputs": [
    {
     "data": {
      "text/html": [
       "<div>\n",
       "<style scoped>\n",
       "    .dataframe tbody tr th:only-of-type {\n",
       "        vertical-align: middle;\n",
       "    }\n",
       "\n",
       "    .dataframe tbody tr th {\n",
       "        vertical-align: top;\n",
       "    }\n",
       "\n",
       "    .dataframe thead th {\n",
       "        text-align: right;\n",
       "    }\n",
       "</style>\n",
       "<table border=\"1\" class=\"dataframe\">\n",
       "  <thead>\n",
       "    <tr style=\"text-align: right;\">\n",
       "      <th></th>\n",
       "      <th>Lat</th>\n",
       "      <th>Long</th>\n",
       "    </tr>\n",
       "  </thead>\n",
       "  <tbody>\n",
       "    <tr>\n",
       "      <th>0</th>\n",
       "      <td>40.503163</td>\n",
       "      <td>-74.24649</td>\n",
       "    </tr>\n",
       "    <tr>\n",
       "      <th>1</th>\n",
       "      <td>40.506663</td>\n",
       "      <td>-74.24649</td>\n",
       "    </tr>\n",
       "    <tr>\n",
       "      <th>2</th>\n",
       "      <td>40.510163</td>\n",
       "      <td>-74.24649</td>\n",
       "    </tr>\n",
       "    <tr>\n",
       "      <th>3</th>\n",
       "      <td>40.513663</td>\n",
       "      <td>-74.24649</td>\n",
       "    </tr>\n",
       "    <tr>\n",
       "      <th>4</th>\n",
       "      <td>40.517163</td>\n",
       "      <td>-74.24649</td>\n",
       "    </tr>\n",
       "    <tr>\n",
       "      <th>...</th>\n",
       "      <td>...</td>\n",
       "      <td>...</td>\n",
       "    </tr>\n",
       "    <tr>\n",
       "      <th>9995</th>\n",
       "      <td>40.835663</td>\n",
       "      <td>-73.89999</td>\n",
       "    </tr>\n",
       "    <tr>\n",
       "      <th>9996</th>\n",
       "      <td>40.839163</td>\n",
       "      <td>-73.89999</td>\n",
       "    </tr>\n",
       "    <tr>\n",
       "      <th>9997</th>\n",
       "      <td>40.842663</td>\n",
       "      <td>-73.89999</td>\n",
       "    </tr>\n",
       "    <tr>\n",
       "      <th>9998</th>\n",
       "      <td>40.846163</td>\n",
       "      <td>-73.89999</td>\n",
       "    </tr>\n",
       "    <tr>\n",
       "      <th>9999</th>\n",
       "      <td>40.849663</td>\n",
       "      <td>-73.89999</td>\n",
       "    </tr>\n",
       "  </tbody>\n",
       "</table>\n",
       "<p>10000 rows × 2 columns</p>\n",
       "</div>"
      ],
      "text/plain": [
       "            Lat      Long\n",
       "0     40.503163 -74.24649\n",
       "1     40.506663 -74.24649\n",
       "2     40.510163 -74.24649\n",
       "3     40.513663 -74.24649\n",
       "4     40.517163 -74.24649\n",
       "...         ...       ...\n",
       "9995  40.835663 -73.89999\n",
       "9996  40.839163 -73.89999\n",
       "9997  40.842663 -73.89999\n",
       "9998  40.846163 -73.89999\n",
       "9999  40.849663 -73.89999\n",
       "\n",
       "[10000 rows x 2 columns]"
      ]
     },
     "execution_count": 98,
     "metadata": {},
     "output_type": "execute_result"
    }
   ],
   "source": [
    "X_test = df_pred[['Lat', 'Long']]\n",
    "y_pred = model.predict(X_test)\n",
    "X_test"
   ]
  },
  {
   "cell_type": "code",
   "execution_count": 99,
   "id": "04960ca2",
   "metadata": {},
   "outputs": [
    {
     "data": {
      "text/plain": [
       "array([1800.  , 1800.  , 1800.  , ..., 2016.25, 2016.25, 2016.25])"
      ]
     },
     "execution_count": 99,
     "metadata": {},
     "output_type": "execute_result"
    }
   ],
   "source": [
    "y_pred"
   ]
  },
  {
   "cell_type": "code",
   "execution_count": 100,
   "id": "4fba53d7",
   "metadata": {},
   "outputs": [],
   "source": [
    "df_final = df_pred.assign(Price = y_pred)"
   ]
  },
  {
   "cell_type": "code",
   "execution_count": 101,
   "id": "0338b0fe",
   "metadata": {},
   "outputs": [
    {
     "data": {
      "text/html": [
       "<div>\n",
       "<style scoped>\n",
       "    .dataframe tbody tr th:only-of-type {\n",
       "        vertical-align: middle;\n",
       "    }\n",
       "\n",
       "    .dataframe tbody tr th {\n",
       "        vertical-align: top;\n",
       "    }\n",
       "\n",
       "    .dataframe thead th {\n",
       "        text-align: right;\n",
       "    }\n",
       "</style>\n",
       "<table border=\"1\" class=\"dataframe\">\n",
       "  <thead>\n",
       "    <tr style=\"text-align: right;\">\n",
       "      <th></th>\n",
       "      <th>Lat</th>\n",
       "      <th>Long</th>\n",
       "      <th>Price</th>\n",
       "    </tr>\n",
       "  </thead>\n",
       "  <tbody>\n",
       "    <tr>\n",
       "      <th>0</th>\n",
       "      <td>40.503163</td>\n",
       "      <td>-74.24649</td>\n",
       "      <td>1800.00</td>\n",
       "    </tr>\n",
       "    <tr>\n",
       "      <th>1</th>\n",
       "      <td>40.506663</td>\n",
       "      <td>-74.24649</td>\n",
       "      <td>1800.00</td>\n",
       "    </tr>\n",
       "    <tr>\n",
       "      <th>2</th>\n",
       "      <td>40.510163</td>\n",
       "      <td>-74.24649</td>\n",
       "      <td>1800.00</td>\n",
       "    </tr>\n",
       "    <tr>\n",
       "      <th>3</th>\n",
       "      <td>40.513663</td>\n",
       "      <td>-74.24649</td>\n",
       "      <td>1800.00</td>\n",
       "    </tr>\n",
       "    <tr>\n",
       "      <th>4</th>\n",
       "      <td>40.517163</td>\n",
       "      <td>-74.24649</td>\n",
       "      <td>1800.00</td>\n",
       "    </tr>\n",
       "    <tr>\n",
       "      <th>...</th>\n",
       "      <td>...</td>\n",
       "      <td>...</td>\n",
       "      <td>...</td>\n",
       "    </tr>\n",
       "    <tr>\n",
       "      <th>9995</th>\n",
       "      <td>40.835663</td>\n",
       "      <td>-73.89999</td>\n",
       "      <td>2016.25</td>\n",
       "    </tr>\n",
       "    <tr>\n",
       "      <th>9996</th>\n",
       "      <td>40.839163</td>\n",
       "      <td>-73.89999</td>\n",
       "      <td>2016.25</td>\n",
       "    </tr>\n",
       "    <tr>\n",
       "      <th>9997</th>\n",
       "      <td>40.842663</td>\n",
       "      <td>-73.89999</td>\n",
       "      <td>2016.25</td>\n",
       "    </tr>\n",
       "    <tr>\n",
       "      <th>9998</th>\n",
       "      <td>40.846163</td>\n",
       "      <td>-73.89999</td>\n",
       "      <td>2016.25</td>\n",
       "    </tr>\n",
       "    <tr>\n",
       "      <th>9999</th>\n",
       "      <td>40.849663</td>\n",
       "      <td>-73.89999</td>\n",
       "      <td>2016.25</td>\n",
       "    </tr>\n",
       "  </tbody>\n",
       "</table>\n",
       "<p>10000 rows × 3 columns</p>\n",
       "</div>"
      ],
      "text/plain": [
       "            Lat      Long    Price\n",
       "0     40.503163 -74.24649  1800.00\n",
       "1     40.506663 -74.24649  1800.00\n",
       "2     40.510163 -74.24649  1800.00\n",
       "3     40.513663 -74.24649  1800.00\n",
       "4     40.517163 -74.24649  1800.00\n",
       "...         ...       ...      ...\n",
       "9995  40.835663 -73.89999  2016.25\n",
       "9996  40.839163 -73.89999  2016.25\n",
       "9997  40.842663 -73.89999  2016.25\n",
       "9998  40.846163 -73.89999  2016.25\n",
       "9999  40.849663 -73.89999  2016.25\n",
       "\n",
       "[10000 rows x 3 columns]"
      ]
     },
     "execution_count": 101,
     "metadata": {},
     "output_type": "execute_result"
    }
   ],
   "source": [
    "df_final"
   ]
  },
  {
   "cell_type": "code",
   "execution_count": 102,
   "id": "d2b9d1a3",
   "metadata": {},
   "outputs": [
    {
     "data": {
      "text/plain": [
       "(array([ 493.,  560.,  850., 1513.,  410.,  108.,  440.,   97.,  402.,\n",
       "          61.,  385.,   17.,  466.,  699.,   70.,  270.,   37.,   16.,\n",
       "          63., 2676.,   27.,   18.,   17.,   17.,  198.,   11.,   23.,\n",
       "           8.,    6.,    0.,    0.,    0.,    0.,    0.,    5.,    0.,\n",
       "           0.,    0.,   32.,    0.,    0.,    0.,    0.,    0.,    0.,\n",
       "           0.,    0.,    0.,    0.,    5.]),\n",
       " array([1150., 1322., 1494., 1666., 1838., 2010., 2182., 2354., 2526.,\n",
       "        2698., 2870., 3042., 3214., 3386., 3558., 3730., 3902., 4074.,\n",
       "        4246., 4418., 4590., 4762., 4934., 5106., 5278., 5450., 5622.,\n",
       "        5794., 5966., 6138., 6310., 6482., 6654., 6826., 6998., 7170.,\n",
       "        7342., 7514., 7686., 7858., 8030., 8202., 8374., 8546., 8718.,\n",
       "        8890., 9062., 9234., 9406., 9578., 9750.]),\n",
       " <BarContainer object of 50 artists>)"
      ]
     },
     "execution_count": 102,
     "metadata": {},
     "output_type": "execute_result"
    },
    {
     "data": {
      "image/png": "[encoded data removed]",
      "text/plain": [
       "<Figure size 612x468 with 3 Axes>"
      ]
     },
     "metadata": {
      "needs_background": "light"
     },
     "output_type": "display_data"
    }
   ],
   "source": [
    "\n",
    "fig, axs = plt.subplots(3)\n",
    "fig.set_size_inches(8.5, 6.5)\n",
    "fig.suptitle('Histograms of  latitude, longitude, price')\n",
    "axs[0].hist(df_final['Lat'], bins=50)\n",
    "axs[1].hist(df_final['Long'], bins = 50)\n",
    "axs[2].hist(df_final['Price'], bins = 50)"
   ]
  },
  {
   "cell_type": "code",
   "execution_count": 31,
   "id": "25254a78",
   "metadata": {},
   "outputs": [],
   "source": []
  },
  {
   "cell_type": "code",
   "execution_count": 103,
   "id": "ab1ef3b3",
   "metadata": {},
   "outputs": [
    {
     "data": {
      "image/png": "[encoded data removed]",
      "text/plain": [
       "<Figure size 432x288 with 2 Axes>"
      ]
     },
     "metadata": {
      "needs_background": "light"
     },
     "output_type": "display_data"
    }
   ],
   "source": [
    "%matplotlib inline\n",
    "fig = plt.figure()\n",
    "ax = plt.axes(projection='3d')\n",
    "\n",
    "ax = plt.axes(projection='3d')\n",
    "\n",
    "\n",
    "\n",
    "# Data for three-dimensional scattered points\n",
    "zdata = df_final['Price']\n",
    "xdata = df_final['Lat']\n",
    "ydata = df_final['Long']\n",
    "ax.scatter3D(xdata, ydata, zdata, c=zdata, cmap='viridis');"
   ]
  },
  {
   "cell_type": "code",
   "execution_count": null,
   "id": "580e5a55",
   "metadata": {},
   "outputs": [],
   "source": []
  },
  {
   "cell_type": "code",
   "execution_count": null,
   "id": "6e7117be",
   "metadata": {},
   "outputs": [],
   "source": []
  },
  {
   "cell_type": "code",
   "execution_count": null,
   "id": "ec0ac246",
   "metadata": {},
   "outputs": [],
   "source": []
  }
 ],
 "metadata": {
  "kernelspec": {
   "display_name": "Python 3 (ipykernel)",
   "language": "python",
   "name": "python3"
  },
  "language_info": {
   "codemirror_mode": {
    "name": "ipython",
    "version": 3
   },
   "file_extension": ".py",
   "mimetype": "text/x-python",
   "name": "python",
   "nbconvert_exporter": "python",
   "pygments_lexer": "ipython3",
   "version": "3.9.12"
  }
 },
 "nbformat": 4,
 "nbformat_minor": 5
}
