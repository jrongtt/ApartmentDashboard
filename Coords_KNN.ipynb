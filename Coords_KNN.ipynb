{
 "cells": [
  {
   "cell_type": "code",
   "execution_count": 93,
   "id": "d1cba095",
   "metadata": {},
   "outputs": [],
   "source": [
    "import numpy as np\n",
    "import pandas as pd\n",
    "import matplotlib.pyplot as plt\n",
    "from geopy.geocoders import Nominatim\n",
    "from mpl_toolkits import mplot3d\n",
    "from sklearn import preprocessing\n",
    "from sklearn.tree import DecisionTreeRegressor\n",
    "from sklearn.linear_model import LinearRegression\n",
    "from sklearn.metrics import mean_absolute_error, mean_squared_error\n",
    "from sklearn.model_selection import train_test_split\n",
    "from numpy import linalg as LA"
   ]
  },
  {
   "cell_type": "code",
   "execution_count": 94,
   "id": "44fb30a3",
   "metadata": {},
   "outputs": [],
   "source": [
    "new_york = pd.read_csv('data_Coords/newyorkcoords.csv')"
   ]
  },
  {
   "cell_type": "code",
   "execution_count": 95,
   "id": "8018c9d1",
   "metadata": {},
   "outputs": [
    {
     "data": {
      "text/html": [
       "<div>\n",
       "<style scoped>\n",
       "    .dataframe tbody tr th:only-of-type {\n",
       "        vertical-align: middle;\n",
       "    }\n",
       "\n",
       "    .dataframe tbody tr th {\n",
       "        vertical-align: top;\n",
       "    }\n",
       "\n",
       "    .dataframe thead th {\n",
       "        text-align: right;\n",
       "    }\n",
       "</style>\n",
       "<table border=\"1\" class=\"dataframe\">\n",
       "  <thead>\n",
       "    <tr style=\"text-align: right;\">\n",
       "      <th></th>\n",
       "      <th>Unnamed: 0</th>\n",
       "      <th>index</th>\n",
       "      <th>Price</th>\n",
       "      <th>Beds</th>\n",
       "      <th>Baths</th>\n",
       "      <th>Post_Time</th>\n",
       "      <th>Address</th>\n",
       "      <th>City</th>\n",
       "      <th>State</th>\n",
       "      <th>Zipcode</th>\n",
       "      <th>Lat</th>\n",
       "      <th>Long</th>\n",
       "    </tr>\n",
       "  </thead>\n",
       "  <tbody>\n",
       "    <tr>\n",
       "      <th>0</th>\n",
       "      <td>0</td>\n",
       "      <td>4</td>\n",
       "      <td>$3,375</td>\n",
       "      <td>1 Bed</td>\n",
       "      <td>1 Bath</td>\n",
       "      <td>12m ago</td>\n",
       "      <td>20 Avenue A</td>\n",
       "      <td>New York</td>\n",
       "      <td>NY</td>\n",
       "      <td>10009</td>\n",
       "      <td>40.722721</td>\n",
       "      <td>-73.985637</td>\n",
       "    </tr>\n",
       "    <tr>\n",
       "      <th>1</th>\n",
       "      <td>1</td>\n",
       "      <td>6</td>\n",
       "      <td>$3,600</td>\n",
       "      <td>1 Bed</td>\n",
       "      <td>1 Bath</td>\n",
       "      <td>24m ago</td>\n",
       "      <td>Madison Ave &amp; E 30th St</td>\n",
       "      <td>New York</td>\n",
       "      <td>NY</td>\n",
       "      <td>10016</td>\n",
       "      <td>40.745435</td>\n",
       "      <td>-73.984525</td>\n",
       "    </tr>\n",
       "    <tr>\n",
       "      <th>2</th>\n",
       "      <td>2</td>\n",
       "      <td>7</td>\n",
       "      <td>$3,295</td>\n",
       "      <td>1 Bed</td>\n",
       "      <td>1 Bath</td>\n",
       "      <td>31m ago</td>\n",
       "      <td>Lexington Ave &amp; E 27th St</td>\n",
       "      <td>New York</td>\n",
       "      <td>NY</td>\n",
       "      <td>10016</td>\n",
       "      <td>40.742149</td>\n",
       "      <td>-73.982930</td>\n",
       "    </tr>\n",
       "    <tr>\n",
       "      <th>3</th>\n",
       "      <td>3</td>\n",
       "      <td>8</td>\n",
       "      <td>$3,500</td>\n",
       "      <td>1 Bed</td>\n",
       "      <td>1 Bath</td>\n",
       "      <td>34m ago</td>\n",
       "      <td>York Ave &amp; E 88th St</td>\n",
       "      <td>New York</td>\n",
       "      <td>NY</td>\n",
       "      <td>10128</td>\n",
       "      <td>40.777073</td>\n",
       "      <td>-73.946445</td>\n",
       "    </tr>\n",
       "    <tr>\n",
       "      <th>4</th>\n",
       "      <td>4</td>\n",
       "      <td>17</td>\n",
       "      <td>$4,400</td>\n",
       "      <td>1 Bed</td>\n",
       "      <td>1 Bath</td>\n",
       "      <td>3h ago</td>\n",
       "      <td>160 West 73rd Street</td>\n",
       "      <td>New York</td>\n",
       "      <td>NY</td>\n",
       "      <td>10023</td>\n",
       "      <td>40.778807</td>\n",
       "      <td>-73.980542</td>\n",
       "    </tr>\n",
       "    <tr>\n",
       "      <th>...</th>\n",
       "      <td>...</td>\n",
       "      <td>...</td>\n",
       "      <td>...</td>\n",
       "      <td>...</td>\n",
       "      <td>...</td>\n",
       "      <td>...</td>\n",
       "      <td>...</td>\n",
       "      <td>...</td>\n",
       "      <td>...</td>\n",
       "      <td>...</td>\n",
       "      <td>...</td>\n",
       "      <td>...</td>\n",
       "    </tr>\n",
       "    <tr>\n",
       "      <th>989</th>\n",
       "      <td>989</td>\n",
       "      <td>1655</td>\n",
       "      <td>$3,850</td>\n",
       "      <td>1 Bed</td>\n",
       "      <td>1 Bath</td>\n",
       "      <td>5d+ ago</td>\n",
       "      <td>2nd Ave &amp; E 39th St</td>\n",
       "      <td>New York</td>\n",
       "      <td>NY</td>\n",
       "      <td>10016</td>\n",
       "      <td>40.747616</td>\n",
       "      <td>-73.973981</td>\n",
       "    </tr>\n",
       "    <tr>\n",
       "      <th>990</th>\n",
       "      <td>990</td>\n",
       "      <td>1656</td>\n",
       "      <td>$3,995</td>\n",
       "      <td>1 Bed</td>\n",
       "      <td>1 Bath</td>\n",
       "      <td>5d+ ago</td>\n",
       "      <td>2nd Ave &amp; E 57th St</td>\n",
       "      <td>New York</td>\n",
       "      <td>NY</td>\n",
       "      <td>10022</td>\n",
       "      <td>40.759011</td>\n",
       "      <td>-73.965693</td>\n",
       "    </tr>\n",
       "    <tr>\n",
       "      <th>991</th>\n",
       "      <td>991</td>\n",
       "      <td>1658</td>\n",
       "      <td>$2,362</td>\n",
       "      <td>1 Bed</td>\n",
       "      <td>1 Bath</td>\n",
       "      <td>5d+ ago</td>\n",
       "      <td>2324 28th Ave</td>\n",
       "      <td>New York</td>\n",
       "      <td>NY</td>\n",
       "      <td>11102</td>\n",
       "      <td>43.211887</td>\n",
       "      <td>-75.728426</td>\n",
       "    </tr>\n",
       "    <tr>\n",
       "      <th>992</th>\n",
       "      <td>992</td>\n",
       "      <td>1663</td>\n",
       "      <td>$1,500</td>\n",
       "      <td>1 Bed</td>\n",
       "      <td>1 Bath</td>\n",
       "      <td>5d+ ago</td>\n",
       "      <td>Furness Pl</td>\n",
       "      <td>New York</td>\n",
       "      <td>NY</td>\n",
       "      <td>10314</td>\n",
       "      <td>40.584733</td>\n",
       "      <td>-74.151072</td>\n",
       "    </tr>\n",
       "    <tr>\n",
       "      <th>993</th>\n",
       "      <td>993</td>\n",
       "      <td>1664</td>\n",
       "      <td>$1,500</td>\n",
       "      <td>1 Bed</td>\n",
       "      <td>1 Bath</td>\n",
       "      <td>5d+ ago</td>\n",
       "      <td>61 Furness Pl</td>\n",
       "      <td>New York</td>\n",
       "      <td>NY</td>\n",
       "      <td>10314</td>\n",
       "      <td>40.585894</td>\n",
       "      <td>-74.152783</td>\n",
       "    </tr>\n",
       "  </tbody>\n",
       "</table>\n",
       "<p>994 rows × 12 columns</p>\n",
       "</div>"
      ],
      "text/plain": [
       "     Unnamed: 0  index   Price   Beds   Baths Post_Time  \\\n",
       "0             0      4  $3,375  1 Bed  1 Bath   12m ago   \n",
       "1             1      6  $3,600  1 Bed  1 Bath   24m ago   \n",
       "2             2      7  $3,295  1 Bed  1 Bath   31m ago   \n",
       "3             3      8  $3,500  1 Bed  1 Bath   34m ago   \n",
       "4             4     17  $4,400  1 Bed  1 Bath    3h ago   \n",
       "..          ...    ...     ...    ...     ...       ...   \n",
       "989         989   1655  $3,850  1 Bed  1 Bath   5d+ ago   \n",
       "990         990   1656  $3,995  1 Bed  1 Bath   5d+ ago   \n",
       "991         991   1658  $2,362  1 Bed  1 Bath   5d+ ago   \n",
       "992         992   1663  $1,500  1 Bed  1 Bath   5d+ ago   \n",
       "993         993   1664  $1,500  1 Bed  1 Bath   5d+ ago   \n",
       "\n",
       "                       Address      City State Zipcode        Lat       Long  \n",
       "0                 20 Avenue A   New York    NY   10009  40.722721 -73.985637  \n",
       "1     Madison Ave & E 30th St   New York    NY   10016  40.745435 -73.984525  \n",
       "2    Lexington Ave & E 27th St  New York    NY   10016  40.742149 -73.982930  \n",
       "3        York Ave & E 88th St   New York    NY   10128  40.777073 -73.946445  \n",
       "4         160 West 73rd Street  New York    NY   10023  40.778807 -73.980542  \n",
       "..                         ...       ...   ...     ...        ...        ...  \n",
       "989       2nd Ave & E 39th St   New York    NY   10016  40.747616 -73.973981  \n",
       "990        2nd Ave & E 57th St  New York    NY   10022  40.759011 -73.965693  \n",
       "991             2324 28th Ave   New York    NY   11102  43.211887 -75.728426  \n",
       "992                 Furness Pl  New York    NY   10314  40.584733 -74.151072  \n",
       "993              61 Furness Pl  New York    NY   10314  40.585894 -74.152783  \n",
       "\n",
       "[994 rows x 12 columns]"
      ]
     },
     "execution_count": 95,
     "metadata": {},
     "output_type": "execute_result"
    }
   ],
   "source": [
    "new_york"
   ]
  },
  {
   "cell_type": "code",
   "execution_count": 96,
   "id": "5398e399",
   "metadata": {},
   "outputs": [],
   "source": [
    "def clean_csv(df):        \n",
    "    df['Price'] = df['Price'].str.replace(',', '')\n",
    "    df['Price'] = df['Price'].replace({r'\\$':''}, regex = True).replace(\",\", \"\")\n",
    "    return df"
   ]
  },
  {
   "cell_type": "code",
   "execution_count": 97,
   "id": "8314ba39",
   "metadata": {},
   "outputs": [
    {
     "data": {
      "text/plain": [
       "Text(0, 0.5, 'Longitude')"
      ]
     },
     "execution_count": 97,
     "metadata": {},
     "output_type": "execute_result"
    },
    {
     "data": {
      "image/png": "[encoded data removed]",
      "text/plain": [
       "<Figure size 432x288 with 1 Axes>"
      ]
     },
     "metadata": {
      "needs_background": "light"
     },
     "output_type": "display_data"
    }
   ],
   "source": [
    "plt.title(\"New York Listings\")\n",
    "plt.scatter(new_york['Lat'], new_york['Long'])\n",
    "plt.xlabel('Latitude')\n",
    "plt.ylabel('Longitude')"
   ]
  },
  {
   "cell_type": "markdown",
   "id": "09a53cd5",
   "metadata": {},
   "source": [
    "## Remove outliers:\n",
    "\n",
    "As they represent listings outside the city"
   ]
  },
  {
   "cell_type": "code",
   "execution_count": 98,
   "id": "16763878",
   "metadata": {},
   "outputs": [],
   "source": [
    "df = pd.DataFrame(clean_csv(new_york))\n",
    "df1 = df.loc[df[\"Lat\"] < 41.3]\n",
    "df1 = df1.loc[df1[\"Long\"] < -73]"
   ]
  },
  {
   "cell_type": "code",
   "execution_count": 99,
   "id": "1b2efcb1",
   "metadata": {},
   "outputs": [
    {
     "data": {
      "text/plain": [
       "Text(0, 0.5, 'Longitude')"
      ]
     },
     "execution_count": 99,
     "metadata": {},
     "output_type": "execute_result"
    },
    {
     "data": {
      "image/png": "[encoded data removed]",
      "text/plain": [
       "<Figure size 432x288 with 1 Axes>"
      ]
     },
     "metadata": {
      "needs_background": "light"
     },
     "output_type": "display_data"
    }
   ],
   "source": [
    "plt.title(\"New York Listings\")\n",
    "plt.scatter(df1['Lat'], df1['Long'])\n",
    "plt.xlabel('Latitude')\n",
    "plt.ylabel('Longitude')"
   ]
  },
  {
   "cell_type": "code",
   "execution_count": 100,
   "id": "bc5331fc",
   "metadata": {},
   "outputs": [
    {
     "name": "stdout",
     "output_type": "stream",
     "text": [
      "Min and Max Latitudes: 40.5031627 40.90450673469174\n",
      "Min and Max Longitudes: -74.24649027734604 -73.7150497\n"
     ]
    }
   ],
   "source": [
    "print(\"Min and Max Latitudes:\", min(df1['Lat']), max(df1['Lat']))\n",
    "print(\"Min and Max Longitudes:\", min(df1['Long']), max(df1['Long']))"
   ]
  },
  {
   "cell_type": "code",
   "execution_count": 101,
   "id": "fe8dbe8b",
   "metadata": {},
   "outputs": [
    {
     "data": {
      "text/plain": [
       "(array([53., 53., 37., 19., 42., 78., 30., 11., 10., 10., 12.,  9., 10.,\n",
       "        11., 54., 46., 22., 14., 29., 22., 25., 19., 19., 36., 13., 10.,\n",
       "        20., 13., 16., 13.,  9., 12., 18., 12., 18., 13., 14., 10., 16.,\n",
       "        11., 10.,  7.,  9., 10., 12.,  7.,  8.,  8.,  7.,  8.]),\n",
       " array([  0.  ,   7.38,  14.76,  22.14,  29.52,  36.9 ,  44.28,  51.66,\n",
       "         59.04,  66.42,  73.8 ,  81.18,  88.56,  95.94, 103.32, 110.7 ,\n",
       "        118.08, 125.46, 132.84, 140.22, 147.6 , 154.98, 162.36, 169.74,\n",
       "        177.12, 184.5 , 191.88, 199.26, 206.64, 214.02, 221.4 , 228.78,\n",
       "        236.16, 243.54, 250.92, 258.3 , 265.68, 273.06, 280.44, 287.82,\n",
       "        295.2 , 302.58, 309.96, 317.34, 324.72, 332.1 , 339.48, 346.86,\n",
       "        354.24, 361.62, 369.  ]),\n",
       " <BarContainer object of 50 artists>)"
      ]
     },
     "execution_count": 101,
     "metadata": {},
     "output_type": "execute_result"
    },
    {
     "data": {
      "image/png": "[encoded data removed]",
      "text/plain": [
       "<Figure size 612x468 with 3 Axes>"
      ]
     },
     "metadata": {
      "needs_background": "light"
     },
     "output_type": "display_data"
    }
   ],
   "source": [
    "\n",
    "fig, axs = plt.subplots(3)\n",
    "fig.set_size_inches(8.5, 6.5)\n",
    "fig.suptitle('Histograms of latitude, longitude, price')\n",
    "axs[0].hist(df1['Lat'], bins=50)\n",
    "axs[1].hist(df1['Long'], bins = 50)\n",
    "axs[2].hist(df1['Price'], bins = 50)"
   ]
  },
  {
   "cell_type": "code",
   "execution_count": 102,
   "id": "1c19bf74",
   "metadata": {},
   "outputs": [
    {
     "data": {
      "text/html": [
       "<div>\n",
       "<style scoped>\n",
       "    .dataframe tbody tr th:only-of-type {\n",
       "        vertical-align: middle;\n",
       "    }\n",
       "\n",
       "    .dataframe tbody tr th {\n",
       "        vertical-align: top;\n",
       "    }\n",
       "\n",
       "    .dataframe thead th {\n",
       "        text-align: right;\n",
       "    }\n",
       "</style>\n",
       "<table border=\"1\" class=\"dataframe\">\n",
       "  <thead>\n",
       "    <tr style=\"text-align: right;\">\n",
       "      <th></th>\n",
       "      <th>latitude</th>\n",
       "      <th>longitude</th>\n",
       "      <th>price</th>\n",
       "    </tr>\n",
       "  </thead>\n",
       "  <tbody>\n",
       "    <tr>\n",
       "      <th>0</th>\n",
       "      <td>0.032013</td>\n",
       "      <td>-0.032039</td>\n",
       "      <td>0.028241</td>\n",
       "    </tr>\n",
       "    <tr>\n",
       "      <th>1</th>\n",
       "      <td>0.032031</td>\n",
       "      <td>-0.032038</td>\n",
       "      <td>0.030124</td>\n",
       "    </tr>\n",
       "    <tr>\n",
       "      <th>2</th>\n",
       "      <td>0.032028</td>\n",
       "      <td>-0.032037</td>\n",
       "      <td>0.027572</td>\n",
       "    </tr>\n",
       "    <tr>\n",
       "      <th>3</th>\n",
       "      <td>0.032056</td>\n",
       "      <td>-0.032022</td>\n",
       "      <td>0.029287</td>\n",
       "    </tr>\n",
       "    <tr>\n",
       "      <th>4</th>\n",
       "      <td>0.032057</td>\n",
       "      <td>-0.032036</td>\n",
       "      <td>0.036818</td>\n",
       "    </tr>\n",
       "    <tr>\n",
       "      <th>...</th>\n",
       "      <td>...</td>\n",
       "      <td>...</td>\n",
       "      <td>...</td>\n",
       "    </tr>\n",
       "    <tr>\n",
       "      <th>970</th>\n",
       "      <td>0.031986</td>\n",
       "      <td>-0.032028</td>\n",
       "      <td>0.030082</td>\n",
       "    </tr>\n",
       "    <tr>\n",
       "      <th>971</th>\n",
       "      <td>0.032033</td>\n",
       "      <td>-0.032033</td>\n",
       "      <td>0.032216</td>\n",
       "    </tr>\n",
       "    <tr>\n",
       "      <th>972</th>\n",
       "      <td>0.032041</td>\n",
       "      <td>-0.032030</td>\n",
       "      <td>0.033429</td>\n",
       "    </tr>\n",
       "    <tr>\n",
       "      <th>973</th>\n",
       "      <td>0.031904</td>\n",
       "      <td>-0.032110</td>\n",
       "      <td>0.012552</td>\n",
       "    </tr>\n",
       "    <tr>\n",
       "      <th>974</th>\n",
       "      <td>0.031905</td>\n",
       "      <td>-0.032111</td>\n",
       "      <td>0.012552</td>\n",
       "    </tr>\n",
       "  </tbody>\n",
       "</table>\n",
       "<p>975 rows × 3 columns</p>\n",
       "</div>"
      ],
      "text/plain": [
       "     latitude  longitude     price\n",
       "0    0.032013  -0.032039  0.028241\n",
       "1    0.032031  -0.032038  0.030124\n",
       "2    0.032028  -0.032037  0.027572\n",
       "3    0.032056  -0.032022  0.029287\n",
       "4    0.032057  -0.032036  0.036818\n",
       "..        ...        ...       ...\n",
       "970  0.031986  -0.032028  0.030082\n",
       "971  0.032033  -0.032033  0.032216\n",
       "972  0.032041  -0.032030  0.033429\n",
       "973  0.031904  -0.032110  0.012552\n",
       "974  0.031905  -0.032111  0.012552\n",
       "\n",
       "[975 rows x 3 columns]"
      ]
     },
     "execution_count": 102,
     "metadata": {},
     "output_type": "execute_result"
    }
   ],
   "source": [
    "lat_norm = (preprocessing.normalize([df1['Lat']])).flatten()\n",
    "long_norm = (preprocessing.normalize([df1['Long']])).flatten()\n",
    "price_norm = (preprocessing.normalize([df1['Price']])).flatten()\n",
    "\n",
    "# lat_norm = df1['Lat'] - 40\n",
    "# long_norm = df1['Long'] + 75\n",
    "# price = df1['Price']\n",
    "\n",
    "#df_norm = pd.DataFrame(Latitude = lat_norm)\n",
    "\n",
    "df_norm = pd.DataFrame(data={\"latitude\": lat_norm, \"longitude\": long_norm, \"price\": price_norm})\n",
    "\n",
    "df_norm"
   ]
  },
  {
   "cell_type": "code",
   "execution_count": 103,
   "id": "31a367fa",
   "metadata": {},
   "outputs": [
    {
     "data": {
      "text/plain": [
       "(array([ 6.,  6., 13., 39., 57., 47., 50., 43., 51., 34., 43., 40., 55.,\n",
       "        42., 42., 37., 59., 27., 39., 30., 26., 32., 25., 16., 13., 26.,\n",
       "        16., 16.,  6.,  1.,  6.,  6.,  4.,  4.,  1.,  1.,  1.,  6.,  0.,\n",
       "         2.,  1.,  0.,  2.,  1.,  1.,  0.,  0.,  0.,  1.,  1.]),\n",
       " array([0.00836779, 0.0098735 , 0.0113792 , 0.0128849 , 0.0143906 ,\n",
       "        0.0158963 , 0.017402  , 0.0189077 , 0.0204134 , 0.0219191 ,\n",
       "        0.0234248 , 0.0249305 , 0.02643621, 0.02794191, 0.02944761,\n",
       "        0.03095331, 0.03245901, 0.03396471, 0.03547041, 0.03697611,\n",
       "        0.03848181, 0.03998751, 0.04149321, 0.04299891, 0.04450462,\n",
       "        0.04601032, 0.04751602, 0.04902172, 0.05052742, 0.05203312,\n",
       "        0.05353882, 0.05504452, 0.05655022, 0.05805592, 0.05956162,\n",
       "        0.06106733, 0.06257303, 0.06407873, 0.06558443, 0.06709013,\n",
       "        0.06859583, 0.07010153, 0.07160723, 0.07311293, 0.07461863,\n",
       "        0.07612433, 0.07763004, 0.07913574, 0.08064144, 0.08214714,\n",
       "        0.08365284]),\n",
       " <BarContainer object of 50 artists>)"
      ]
     },
     "execution_count": 103,
     "metadata": {},
     "output_type": "execute_result"
    },
    {
     "data": {
      "image/png": "[encoded data removed]",
      "text/plain": [
       "<Figure size 612x468 with 3 Axes>"
      ]
     },
     "metadata": {
      "needs_background": "light"
     },
     "output_type": "display_data"
    }
   ],
   "source": [
    "\n",
    "fig, axs = plt.subplots(3)\n",
    "fig.set_size_inches(8.5, 6.5)\n",
    "fig.suptitle('Histograms of normalized latitude, longitude, price')\n",
    "axs[0].hist(df_norm['latitude'], bins=50)\n",
    "axs[1].hist(df_norm['longitude'], bins = 50)\n",
    "axs[2].hist(df_norm['price'], bins = 50)"
   ]
  },
  {
   "cell_type": "code",
   "execution_count": 104,
   "id": "1e99bc0f",
   "metadata": {},
   "outputs": [
    {
     "data": {
      "text/plain": [
       "0.9999999999999998"
      ]
     },
     "execution_count": 104,
     "metadata": {},
     "output_type": "execute_result"
    }
   ],
   "source": [
    "LA.norm(df_norm['latitude'])"
   ]
  },
  {
   "cell_type": "code",
   "execution_count": null,
   "id": "da453a41",
   "metadata": {},
   "outputs": [],
   "source": []
  },
  {
   "cell_type": "code",
   "execution_count": null,
   "id": "f41f3b3d",
   "metadata": {},
   "outputs": [],
   "source": []
  },
  {
   "cell_type": "code",
   "execution_count": 105,
   "id": "cc7bdabb",
   "metadata": {},
   "outputs": [
    {
     "data": {
      "image/png": "[encoded data removed]",
      "text/plain": [
       "<Figure size 432x288 with 2 Axes>"
      ]
     },
     "metadata": {
      "needs_background": "light"
     },
     "output_type": "display_data"
    }
   ],
   "source": [
    "\n",
    "%matplotlib inline\n",
    "fig = plt.figure()\n",
    "ax = plt.axes(projection='3d')\n",
    "\n",
    "ax = plt.axes(projection='3d')\n",
    "\n",
    "\n",
    "\n",
    "# Data for three-dimensional scattered points\n",
    "zdata = price_norm\n",
    "xdata = lat_norm\n",
    "ydata = long_norm\n",
    "ax.scatter3D(xdata, ydata, zdata, c=zdata, cmap='viridis');"
   ]
  },
  {
   "cell_type": "code",
   "execution_count": 106,
   "id": "6e8117c3",
   "metadata": {},
   "outputs": [
    {
     "data": {
      "text/plain": [
       "<AxesSubplot:>"
      ]
     },
     "execution_count": 106,
     "metadata": {},
     "output_type": "execute_result"
    },
    {
     "data": {
      "image/png": "[encoded data removed]",
      "text/plain": [
       "<Figure size 432x288 with 1 Axes>"
      ]
     },
     "metadata": {
      "needs_background": "light"
     },
     "output_type": "display_data"
    }
   ],
   "source": [
    "df1[\"Price\"].hist(bins=10)"
   ]
  },
  {
   "cell_type": "code",
   "execution_count": 107,
   "id": "c5290d9a",
   "metadata": {},
   "outputs": [
    {
     "data": {
      "text/html": [
       "<div>\n",
       "<style scoped>\n",
       "    .dataframe tbody tr th:only-of-type {\n",
       "        vertical-align: middle;\n",
       "    }\n",
       "\n",
       "    .dataframe tbody tr th {\n",
       "        vertical-align: top;\n",
       "    }\n",
       "\n",
       "    .dataframe thead th {\n",
       "        text-align: right;\n",
       "    }\n",
       "</style>\n",
       "<table border=\"1\" class=\"dataframe\">\n",
       "  <thead>\n",
       "    <tr style=\"text-align: right;\">\n",
       "      <th></th>\n",
       "      <th>Unnamed: 0</th>\n",
       "      <th>index</th>\n",
       "      <th>Price</th>\n",
       "      <th>Beds</th>\n",
       "      <th>Baths</th>\n",
       "      <th>Post_Time</th>\n",
       "      <th>Address</th>\n",
       "      <th>City</th>\n",
       "      <th>State</th>\n",
       "      <th>Zipcode</th>\n",
       "      <th>Lat</th>\n",
       "      <th>Long</th>\n",
       "    </tr>\n",
       "  </thead>\n",
       "  <tbody>\n",
       "    <tr>\n",
       "      <th>0</th>\n",
       "      <td>0</td>\n",
       "      <td>4</td>\n",
       "      <td>3375</td>\n",
       "      <td>1 Bed</td>\n",
       "      <td>1 Bath</td>\n",
       "      <td>12m ago</td>\n",
       "      <td>20 Avenue A</td>\n",
       "      <td>New York</td>\n",
       "      <td>NY</td>\n",
       "      <td>10009</td>\n",
       "      <td>40.722721</td>\n",
       "      <td>-73.985637</td>\n",
       "    </tr>\n",
       "    <tr>\n",
       "      <th>1</th>\n",
       "      <td>1</td>\n",
       "      <td>6</td>\n",
       "      <td>3600</td>\n",
       "      <td>1 Bed</td>\n",
       "      <td>1 Bath</td>\n",
       "      <td>24m ago</td>\n",
       "      <td>Madison Ave &amp; E 30th St</td>\n",
       "      <td>New York</td>\n",
       "      <td>NY</td>\n",
       "      <td>10016</td>\n",
       "      <td>40.745435</td>\n",
       "      <td>-73.984525</td>\n",
       "    </tr>\n",
       "    <tr>\n",
       "      <th>2</th>\n",
       "      <td>2</td>\n",
       "      <td>7</td>\n",
       "      <td>3295</td>\n",
       "      <td>1 Bed</td>\n",
       "      <td>1 Bath</td>\n",
       "      <td>31m ago</td>\n",
       "      <td>Lexington Ave &amp; E 27th St</td>\n",
       "      <td>New York</td>\n",
       "      <td>NY</td>\n",
       "      <td>10016</td>\n",
       "      <td>40.742149</td>\n",
       "      <td>-73.982930</td>\n",
       "    </tr>\n",
       "    <tr>\n",
       "      <th>3</th>\n",
       "      <td>3</td>\n",
       "      <td>8</td>\n",
       "      <td>3500</td>\n",
       "      <td>1 Bed</td>\n",
       "      <td>1 Bath</td>\n",
       "      <td>34m ago</td>\n",
       "      <td>York Ave &amp; E 88th St</td>\n",
       "      <td>New York</td>\n",
       "      <td>NY</td>\n",
       "      <td>10128</td>\n",
       "      <td>40.777073</td>\n",
       "      <td>-73.946445</td>\n",
       "    </tr>\n",
       "    <tr>\n",
       "      <th>4</th>\n",
       "      <td>4</td>\n",
       "      <td>17</td>\n",
       "      <td>4400</td>\n",
       "      <td>1 Bed</td>\n",
       "      <td>1 Bath</td>\n",
       "      <td>3h ago</td>\n",
       "      <td>160 West 73rd Street</td>\n",
       "      <td>New York</td>\n",
       "      <td>NY</td>\n",
       "      <td>10023</td>\n",
       "      <td>40.778807</td>\n",
       "      <td>-73.980542</td>\n",
       "    </tr>\n",
       "    <tr>\n",
       "      <th>...</th>\n",
       "      <td>...</td>\n",
       "      <td>...</td>\n",
       "      <td>...</td>\n",
       "      <td>...</td>\n",
       "      <td>...</td>\n",
       "      <td>...</td>\n",
       "      <td>...</td>\n",
       "      <td>...</td>\n",
       "      <td>...</td>\n",
       "      <td>...</td>\n",
       "      <td>...</td>\n",
       "      <td>...</td>\n",
       "    </tr>\n",
       "    <tr>\n",
       "      <th>988</th>\n",
       "      <td>988</td>\n",
       "      <td>1651</td>\n",
       "      <td>3595</td>\n",
       "      <td>1 Bed</td>\n",
       "      <td>1 Bath</td>\n",
       "      <td>5d+ ago</td>\n",
       "      <td>81 Clifton Pl</td>\n",
       "      <td>New York</td>\n",
       "      <td>NY</td>\n",
       "      <td>11238</td>\n",
       "      <td>40.688274</td>\n",
       "      <td>-73.960743</td>\n",
       "    </tr>\n",
       "    <tr>\n",
       "      <th>989</th>\n",
       "      <td>989</td>\n",
       "      <td>1655</td>\n",
       "      <td>3850</td>\n",
       "      <td>1 Bed</td>\n",
       "      <td>1 Bath</td>\n",
       "      <td>5d+ ago</td>\n",
       "      <td>2nd Ave &amp; E 39th St</td>\n",
       "      <td>New York</td>\n",
       "      <td>NY</td>\n",
       "      <td>10016</td>\n",
       "      <td>40.747616</td>\n",
       "      <td>-73.973981</td>\n",
       "    </tr>\n",
       "    <tr>\n",
       "      <th>990</th>\n",
       "      <td>990</td>\n",
       "      <td>1656</td>\n",
       "      <td>3995</td>\n",
       "      <td>1 Bed</td>\n",
       "      <td>1 Bath</td>\n",
       "      <td>5d+ ago</td>\n",
       "      <td>2nd Ave &amp; E 57th St</td>\n",
       "      <td>New York</td>\n",
       "      <td>NY</td>\n",
       "      <td>10022</td>\n",
       "      <td>40.759011</td>\n",
       "      <td>-73.965693</td>\n",
       "    </tr>\n",
       "    <tr>\n",
       "      <th>992</th>\n",
       "      <td>992</td>\n",
       "      <td>1663</td>\n",
       "      <td>1500</td>\n",
       "      <td>1 Bed</td>\n",
       "      <td>1 Bath</td>\n",
       "      <td>5d+ ago</td>\n",
       "      <td>Furness Pl</td>\n",
       "      <td>New York</td>\n",
       "      <td>NY</td>\n",
       "      <td>10314</td>\n",
       "      <td>40.584733</td>\n",
       "      <td>-74.151072</td>\n",
       "    </tr>\n",
       "    <tr>\n",
       "      <th>993</th>\n",
       "      <td>993</td>\n",
       "      <td>1664</td>\n",
       "      <td>1500</td>\n",
       "      <td>1 Bed</td>\n",
       "      <td>1 Bath</td>\n",
       "      <td>5d+ ago</td>\n",
       "      <td>61 Furness Pl</td>\n",
       "      <td>New York</td>\n",
       "      <td>NY</td>\n",
       "      <td>10314</td>\n",
       "      <td>40.585894</td>\n",
       "      <td>-74.152783</td>\n",
       "    </tr>\n",
       "  </tbody>\n",
       "</table>\n",
       "<p>975 rows × 12 columns</p>\n",
       "</div>"
      ],
      "text/plain": [
       "     Unnamed: 0  index Price   Beds   Baths Post_Time  \\\n",
       "0             0      4  3375  1 Bed  1 Bath   12m ago   \n",
       "1             1      6  3600  1 Bed  1 Bath   24m ago   \n",
       "2             2      7  3295  1 Bed  1 Bath   31m ago   \n",
       "3             3      8  3500  1 Bed  1 Bath   34m ago   \n",
       "4             4     17  4400  1 Bed  1 Bath    3h ago   \n",
       "..          ...    ...   ...    ...     ...       ...   \n",
       "988         988   1651  3595  1 Bed  1 Bath   5d+ ago   \n",
       "989         989   1655  3850  1 Bed  1 Bath   5d+ ago   \n",
       "990         990   1656  3995  1 Bed  1 Bath   5d+ ago   \n",
       "992         992   1663  1500  1 Bed  1 Bath   5d+ ago   \n",
       "993         993   1664  1500  1 Bed  1 Bath   5d+ ago   \n",
       "\n",
       "                       Address      City State Zipcode        Lat       Long  \n",
       "0                 20 Avenue A   New York    NY   10009  40.722721 -73.985637  \n",
       "1     Madison Ave & E 30th St   New York    NY   10016  40.745435 -73.984525  \n",
       "2    Lexington Ave & E 27th St  New York    NY   10016  40.742149 -73.982930  \n",
       "3        York Ave & E 88th St   New York    NY   10128  40.777073 -73.946445  \n",
       "4         160 West 73rd Street  New York    NY   10023  40.778807 -73.980542  \n",
       "..                         ...       ...   ...     ...        ...        ...  \n",
       "988             81 Clifton Pl   New York    NY   11238  40.688274 -73.960743  \n",
       "989       2nd Ave & E 39th St   New York    NY   10016  40.747616 -73.973981  \n",
       "990        2nd Ave & E 57th St  New York    NY   10022  40.759011 -73.965693  \n",
       "992                 Furness Pl  New York    NY   10314  40.584733 -74.151072  \n",
       "993              61 Furness Pl  New York    NY   10314  40.585894 -74.152783  \n",
       "\n",
       "[975 rows x 12 columns]"
      ]
     },
     "execution_count": 107,
     "metadata": {},
     "output_type": "execute_result"
    }
   ],
   "source": [
    "df1"
   ]
  },
  {
   "cell_type": "code",
   "execution_count": null,
   "id": "c006cf27",
   "metadata": {},
   "outputs": [],
   "source": []
  },
  {
   "cell_type": "code",
   "execution_count": 108,
   "id": "641b496f",
   "metadata": {},
   "outputs": [],
   "source": [
    "correlation_matrix = df1.corr()\n"
   ]
  },
  {
   "cell_type": "markdown",
   "id": "96bf3956",
   "metadata": {},
   "source": [
    "## The Problem:\n",
    "\n",
    "Can we predict the Price of a 1 Bedroom, 1 Bathroom in New York in a given Coordinate\n",
    "\n",
    "We will make two models:\n",
    "\n",
    "- 1: A Normal 3D Linear Regression with Scipy\n",
    "- 2: A ML 3D Regression with Sci-kit learn"
   ]
  },
  {
   "cell_type": "code",
   "execution_count": 109,
   "id": "d9d19c82",
   "metadata": {},
   "outputs": [],
   "source": [
    "X = df1[['Lat', 'Long']].copy()\n",
    "y = df1[['Price']].copy()"
   ]
  },
  {
   "cell_type": "code",
   "execution_count": 110,
   "id": "98a8ea6a",
   "metadata": {},
   "outputs": [
    {
     "data": {
      "text/html": [
       "<div>\n",
       "<style scoped>\n",
       "    .dataframe tbody tr th:only-of-type {\n",
       "        vertical-align: middle;\n",
       "    }\n",
       "\n",
       "    .dataframe tbody tr th {\n",
       "        vertical-align: top;\n",
       "    }\n",
       "\n",
       "    .dataframe thead th {\n",
       "        text-align: right;\n",
       "    }\n",
       "</style>\n",
       "<table border=\"1\" class=\"dataframe\">\n",
       "  <thead>\n",
       "    <tr style=\"text-align: right;\">\n",
       "      <th></th>\n",
       "      <th>Lat</th>\n",
       "      <th>Long</th>\n",
       "    </tr>\n",
       "  </thead>\n",
       "  <tbody>\n",
       "    <tr>\n",
       "      <th>0</th>\n",
       "      <td>40.722721</td>\n",
       "      <td>-73.985637</td>\n",
       "    </tr>\n",
       "    <tr>\n",
       "      <th>1</th>\n",
       "      <td>40.745435</td>\n",
       "      <td>-73.984525</td>\n",
       "    </tr>\n",
       "    <tr>\n",
       "      <th>2</th>\n",
       "      <td>40.742149</td>\n",
       "      <td>-73.982930</td>\n",
       "    </tr>\n",
       "    <tr>\n",
       "      <th>3</th>\n",
       "      <td>40.777073</td>\n",
       "      <td>-73.946445</td>\n",
       "    </tr>\n",
       "    <tr>\n",
       "      <th>4</th>\n",
       "      <td>40.778807</td>\n",
       "      <td>-73.980542</td>\n",
       "    </tr>\n",
       "    <tr>\n",
       "      <th>...</th>\n",
       "      <td>...</td>\n",
       "      <td>...</td>\n",
       "    </tr>\n",
       "    <tr>\n",
       "      <th>988</th>\n",
       "      <td>40.688274</td>\n",
       "      <td>-73.960743</td>\n",
       "    </tr>\n",
       "    <tr>\n",
       "      <th>989</th>\n",
       "      <td>40.747616</td>\n",
       "      <td>-73.973981</td>\n",
       "    </tr>\n",
       "    <tr>\n",
       "      <th>990</th>\n",
       "      <td>40.759011</td>\n",
       "      <td>-73.965693</td>\n",
       "    </tr>\n",
       "    <tr>\n",
       "      <th>992</th>\n",
       "      <td>40.584733</td>\n",
       "      <td>-74.151072</td>\n",
       "    </tr>\n",
       "    <tr>\n",
       "      <th>993</th>\n",
       "      <td>40.585894</td>\n",
       "      <td>-74.152783</td>\n",
       "    </tr>\n",
       "  </tbody>\n",
       "</table>\n",
       "<p>975 rows × 2 columns</p>\n",
       "</div>"
      ],
      "text/plain": [
       "           Lat       Long\n",
       "0    40.722721 -73.985637\n",
       "1    40.745435 -73.984525\n",
       "2    40.742149 -73.982930\n",
       "3    40.777073 -73.946445\n",
       "4    40.778807 -73.980542\n",
       "..         ...        ...\n",
       "988  40.688274 -73.960743\n",
       "989  40.747616 -73.973981\n",
       "990  40.759011 -73.965693\n",
       "992  40.584733 -74.151072\n",
       "993  40.585894 -74.152783\n",
       "\n",
       "[975 rows x 2 columns]"
      ]
     },
     "execution_count": 110,
     "metadata": {},
     "output_type": "execute_result"
    }
   ],
   "source": [
    "X"
   ]
  },
  {
   "cell_type": "code",
   "execution_count": 111,
   "id": "1b08e628",
   "metadata": {},
   "outputs": [
    {
     "data": {
      "text/plain": [
       "DecisionTreeRegressor(random_state=1)"
      ]
     },
     "execution_count": 111,
     "metadata": {},
     "output_type": "execute_result"
    }
   ],
   "source": [
    "model = DecisionTreeRegressor(random_state=1)\n",
    "model.fit(X, y)"
   ]
  },
  {
   "cell_type": "code",
   "execution_count": 112,
   "id": "e30b7f74",
   "metadata": {},
   "outputs": [
    {
     "name": "stdout",
     "output_type": "stream",
     "text": [
      "Making predictions for the following 5 houses:\n",
      "         Lat       Long\n",
      "0  40.722721 -73.985637\n",
      "1  40.745435 -73.984525\n",
      "2  40.742149 -73.982930\n",
      "3  40.777073 -73.946445\n",
      "4  40.778807 -73.980542\n",
      "The predictions are\n",
      "[3316.66666667 3600.         3295.         3500.         4200.        ]\n"
     ]
    }
   ],
   "source": [
    "print(\"Making predictions for the following 5 houses:\")\n",
    "print(X.head())\n",
    "print(\"The predictions are\")\n",
    "print(model.predict(X.head()))"
   ]
  },
  {
   "cell_type": "code",
   "execution_count": 113,
   "id": "6e150aa0",
   "metadata": {},
   "outputs": [
    {
     "name": "stdout",
     "output_type": "stream",
     "text": [
      "  Price\n",
      "0  3375\n",
      "1  3600\n",
      "2  3295\n",
      "3  3500\n",
      "4  4400\n"
     ]
    }
   ],
   "source": [
    "print(y.head())"
   ]
  },
  {
   "cell_type": "code",
   "execution_count": 114,
   "id": "09f29905",
   "metadata": {},
   "outputs": [
    {
     "name": "stdout",
     "output_type": "stream",
     "text": [
      "Mean Absolute Error:  951.4580586331293\n",
      "Mean Squared Error:  1500833.3002280497\n",
      "RMSE:  1225.0850175510473\n"
     ]
    }
   ],
   "source": [
    "X_train, X_test, y_train, y_test = train_test_split(df1[['Lat', 'Long']], df1['Price'], test_size=0.2)\n",
    "\n",
    "# Train the linear regression model\n",
    "model = LinearRegression()\n",
    "model.fit(X_train, y_train)\n",
    "\n",
    "# Make predictions on the test set\n",
    "y_pred = model.predict(X_test)\n",
    "\n",
    "# Evaluate the model using mean absolute error and mean squared error\n",
    "mae = mean_absolute_error(y_test, y_pred)\n",
    "mse = mean_squared_error(y_test, y_pred)\n",
    "print(\"Mean Absolute Error: \", mae)\n",
    "print(\"Mean Squared Error: \", mse)\n",
    "print(\"RMSE: \", np.sqrt(mse))"
   ]
  },
  {
   "cell_type": "code",
   "execution_count": 116,
   "id": "4f78d185",
   "metadata": {},
   "outputs": [
    {
     "name": "stdout",
     "output_type": "stream",
     "text": [
      "Mean Absolute Error:  713.1261538461537\n",
      "Mean Squared Error:  1194876.214329714\n",
      "RMSE:  1093.103935739742\n"
     ]
    }
   ],
   "source": [
    "model = DecisionTreeRegressor()\n",
    "model.fit(X_train, y_train)\n",
    "\n",
    "# Make predictions on the test set\n",
    "y_pred = model.predict(X_test)\n",
    "\n",
    "# Evaluate the model using mean absolute error and mean squared error\n",
    "mae = mean_absolute_error(y_test, y_pred)\n",
    "mse = mean_squared_error(y_test, y_pred)\n",
    "print(\"Mean Absolute Error: \", mae)\n",
    "print(\"Mean Squared Error: \", mse)\n",
    "print(\"RMSE: \", np.sqrt(mse))"
   ]
  },
  {
   "cell_type": "code",
   "execution_count": 24,
   "id": "7f8e3282",
   "metadata": {},
   "outputs": [
    {
     "name": "stdout",
     "output_type": "stream",
     "text": [
      "Normalized Mean Absolute Error:  0.0056689966019269926\n",
      "Normailzed Mean Squared Error:  7.13137596189769e-05\n",
      "Normalized RMSE:  0.008444747457383016\n"
     ]
    }
   ],
   "source": [
    "# Split the data into training and test sets\n",
    "X_train, X_test, y_train, y_test = train_test_split(df_norm[['latitude', 'longitude']], df_norm['price'], test_size=0.2)\n",
    "\n",
    "# Train the Decision Tree Regression model\n",
    "model = DecisionTreeRegressor()\n",
    "model.fit(X_train, y_train)\n",
    "\n",
    "# Make predictions on the test set\n",
    "y_pred = model.predict(X_test)\n",
    "\n",
    "# Evaluate the model using mean absolute error and  mean squared error\n",
    "mae = mean_absolute_error(y_test, y_pred)\n",
    "mse = mean_squared_error(y_test, y_pred)\n",
    "print(\"Normalized Mean Absolute Error: \", mae)\n",
    "print(\"Normailzed Mean Squared Error: \", mse)\n",
    "print(\"Normalized RMSE: \", np.sqrt(mse))"
   ]
  },
  {
   "cell_type": "code",
   "execution_count": 117,
   "id": "23e18678",
   "metadata": {},
   "outputs": [
    {
     "name": "stdout",
     "output_type": "stream",
     "text": [
      "40.5031627 40.90450673469174 -74.24649027734604 -73.7150497\n"
     ]
    }
   ],
   "source": [
    "min_alt = min(df1['Lat'])\n",
    "max_alt = max(df1['Lat'])\n",
    "min_long = min(df1['Long'])\n",
    "max_long = max(df1['Long'])\n",
    "print(min_alt, max_alt, min_long, max_long)"
   ]
  },
  {
   "cell_type": "code",
   "execution_count": 118,
   "id": "f7ca9b93",
   "metadata": {},
   "outputs": [
    {
     "data": {
      "text/plain": [
       "array([4130.        , 4775.        , 3495.        , 1350.        ,\n",
       "       4296.875     , 2099.        , 2000.        , 5130.        ,\n",
       "       1900.        , 4400.        , 2895.        , 3195.        ,\n",
       "       1450.        , 2350.        , 4995.71428571, 7730.        ,\n",
       "       5925.        , 2600.        , 1350.        , 3400.        ,\n",
       "       7730.        , 3400.        , 3895.        , 2613.        ,\n",
       "       2300.        , 4802.5       , 2550.        , 4900.        ,\n",
       "       4148.33333333, 3925.        , 2900.        , 1350.        ,\n",
       "       2700.        , 3200.        , 1700.        , 3632.85714286,\n",
       "       3300.        , 1500.        , 1800.        , 1600.        ,\n",
       "       2325.        , 1750.        , 3350.        , 3250.        ,\n",
       "       2100.        , 4827.33333333, 1400.        , 2550.        ,\n",
       "       2997.5       , 4800.        , 2595.        , 3900.        ,\n",
       "       2200.        , 3550.        , 7750.        , 5788.        ,\n",
       "       3850.        , 3350.        , 4200.        , 5950.        ,\n",
       "       3283.33333333, 4802.5       , 4100.        , 2700.        ,\n",
       "       3300.        , 1800.        , 4650.        , 3300.        ,\n",
       "       3875.        , 1570.        , 3995.        , 2050.        ,\n",
       "       2900.        , 1800.        , 4350.        , 2325.        ,\n",
       "       2100.        , 6724.5       , 2000.        , 5000.        ,\n",
       "       4475.        , 5200.        , 4448.        , 3900.        ,\n",
       "       2383.        , 4100.        , 1350.        , 4400.        ,\n",
       "       4220.        , 3222.2       , 2000.        , 2000.        ,\n",
       "       4240.        , 3100.        , 5220.        , 2099.        ,\n",
       "       2000.        , 5350.        , 2850.        , 2895.        ,\n",
       "       3321.25      , 2900.        , 2400.        , 1450.        ,\n",
       "       4800.        , 1550.        , 3500.        , 2800.        ,\n",
       "       3350.        , 3150.        , 2404.        , 4512.        ,\n",
       "       2800.        , 1850.        , 4313.75      , 5450.        ,\n",
       "       3995.        , 3280.4       , 4995.        , 3795.        ,\n",
       "       4775.        , 2050.        , 4100.        , 4500.        ,\n",
       "       1695.        , 5130.        , 4313.75      , 3400.        ,\n",
       "       4400.        , 2060.        , 2200.        , 4296.875     ,\n",
       "       2743.        , 2895.        , 5350.        , 3222.2       ,\n",
       "       5350.        , 4400.        , 4512.        , 3283.33333333,\n",
       "       4499.        , 2900.        , 2100.        , 4792.5       ,\n",
       "       2841.5       , 2950.        , 2200.        , 4540.        ,\n",
       "       1695.        , 5925.        , 3983.33333333, 2650.        ,\n",
       "       2450.        , 4800.        , 4800.        , 6724.5       ,\n",
       "       5350.        , 3300.        , 1650.        , 4313.75      ,\n",
       "       4045.        , 5788.        , 2350.        , 6700.        ,\n",
       "       6660.        , 2000.        , 2909.85714286, 5670.        ,\n",
       "       5788.        , 1550.        , 3800.        , 2900.        ,\n",
       "       1800.        , 4313.75      , 4087.5       , 2508.33333333,\n",
       "       1500.        , 1950.        , 3000.        , 3695.        ,\n",
       "       2200.        , 2425.        , 3795.        , 1750.        ,\n",
       "       2900.        , 3200.        , 5900.        , 5676.        ,\n",
       "       4900.        , 5650.        , 2000.        , 4650.        ,\n",
       "       3400.        , 2000.        , 2700.        ])"
      ]
     },
     "execution_count": 118,
     "metadata": {},
     "output_type": "execute_result"
    }
   ],
   "source": [
    "y_pred"
   ]
  },
  {
   "cell_type": "code",
   "execution_count": 119,
   "id": "0544af27",
   "metadata": {},
   "outputs": [
    {
     "data": {
      "text/html": [
       "<div>\n",
       "<style scoped>\n",
       "    .dataframe tbody tr th:only-of-type {\n",
       "        vertical-align: middle;\n",
       "    }\n",
       "\n",
       "    .dataframe tbody tr th {\n",
       "        vertical-align: top;\n",
       "    }\n",
       "\n",
       "    .dataframe thead th {\n",
       "        text-align: right;\n",
       "    }\n",
       "</style>\n",
       "<table border=\"1\" class=\"dataframe\">\n",
       "  <thead>\n",
       "    <tr style=\"text-align: right;\">\n",
       "      <th></th>\n",
       "      <th>Lat</th>\n",
       "      <th>Long</th>\n",
       "    </tr>\n",
       "  </thead>\n",
       "  <tbody>\n",
       "    <tr>\n",
       "      <th>937</th>\n",
       "      <td>40.774797</td>\n",
       "      <td>-73.978073</td>\n",
       "    </tr>\n",
       "    <tr>\n",
       "      <th>394</th>\n",
       "      <td>40.745689</td>\n",
       "      <td>-74.001022</td>\n",
       "    </tr>\n",
       "    <tr>\n",
       "      <th>322</th>\n",
       "      <td>40.792448</td>\n",
       "      <td>-73.964285</td>\n",
       "    </tr>\n",
       "    <tr>\n",
       "      <th>483</th>\n",
       "      <td>40.695373</td>\n",
       "      <td>-73.811524</td>\n",
       "    </tr>\n",
       "    <tr>\n",
       "      <th>728</th>\n",
       "      <td>40.752634</td>\n",
       "      <td>-73.965140</td>\n",
       "    </tr>\n",
       "    <tr>\n",
       "      <th>...</th>\n",
       "      <td>...</td>\n",
       "      <td>...</td>\n",
       "    </tr>\n",
       "    <tr>\n",
       "      <th>438</th>\n",
       "      <td>40.775532</td>\n",
       "      <td>-73.952782</td>\n",
       "    </tr>\n",
       "    <tr>\n",
       "      <th>699</th>\n",
       "      <td>40.747200</td>\n",
       "      <td>-73.987514</td>\n",
       "    </tr>\n",
       "    <tr>\n",
       "      <th>636</th>\n",
       "      <td>40.657889</td>\n",
       "      <td>-73.960975</td>\n",
       "    </tr>\n",
       "    <tr>\n",
       "      <th>540</th>\n",
       "      <td>40.735834</td>\n",
       "      <td>-73.789320</td>\n",
       "    </tr>\n",
       "    <tr>\n",
       "      <th>923</th>\n",
       "      <td>40.708335</td>\n",
       "      <td>-74.014939</td>\n",
       "    </tr>\n",
       "  </tbody>\n",
       "</table>\n",
       "<p>195 rows × 2 columns</p>\n",
       "</div>"
      ],
      "text/plain": [
       "           Lat       Long\n",
       "937  40.774797 -73.978073\n",
       "394  40.745689 -74.001022\n",
       "322  40.792448 -73.964285\n",
       "483  40.695373 -73.811524\n",
       "728  40.752634 -73.965140\n",
       "..         ...        ...\n",
       "438  40.775532 -73.952782\n",
       "699  40.747200 -73.987514\n",
       "636  40.657889 -73.960975\n",
       "540  40.735834 -73.789320\n",
       "923  40.708335 -74.014939\n",
       "\n",
       "[195 rows x 2 columns]"
      ]
     },
     "execution_count": 119,
     "metadata": {},
     "output_type": "execute_result"
    }
   ],
   "source": [
    "X_test"
   ]
  },
  {
   "cell_type": "code",
   "execution_count": 490,
   "id": "1a876005",
   "metadata": {},
   "outputs": [],
   "source": [
    "# i = min_alt\n",
    "# j = min_long\n",
    "# no_coords = ((max_alt-i)*(max_long-min_long))\n",
    "# no_coords = 100\n",
    "\n",
    "\n",
    "# df_pred = pd.DataFrame(np.empty([no_coords, 3], dtype=str), columns =['Lat', 'Long','Price'])\n",
    "# k = 0\n",
    "# l = 0\n",
    "# while (k < no_coords and i < max_alt and j < max_long):\n",
    "#     df_pred.iloc[k, 0] = i\n",
    "#     df_pred.iloc[k, 1] = j\n",
    "#     i += 0.0035\n",
    "#     j += 0.0035\n",
    "#     k += 1\n",
    "\n",
    "\n",
    "df_pred = pd.DataFrame(np.zeros([300, 2], dtype=str), columns =['Lat', 'Long'])\n",
    "\n",
    "k = min_alt\n",
    "l = min_long\n",
    "\n",
    "index = 0\n",
    "for i in range(30):\n",
    "    k = min_alt\n",
    "    for j in range(15):\n",
    "        #print(l*k)\n",
    "        if (l >= -1*(k+33.6)):\n",
    "         #   print('REEE')\n",
    "            df_pred.iloc[index,0] = k\n",
    "            df_pred.iloc[index,1] = l\n",
    "            k += 0.018\n",
    "            index += 1\n",
    "    l += 0.015\n",
    "    "
   ]
  },
  {
   "cell_type": "code",
   "execution_count": null,
   "id": "124d760c",
   "metadata": {},
   "outputs": [],
   "source": []
  },
  {
   "cell_type": "code",
   "execution_count": 491,
   "id": "db50ad2e",
   "metadata": {},
   "outputs": [
    {
     "name": "stdout",
     "output_type": "stream",
     "text": [
      "-74.24649027734604\n",
      "40.55920795855007\n",
      "40.5031627\n"
     ]
    },
    {
     "data": {
      "text/html": [
       "<div>\n",
       "<style scoped>\n",
       "    .dataframe tbody tr th:only-of-type {\n",
       "        vertical-align: middle;\n",
       "    }\n",
       "\n",
       "    .dataframe tbody tr th {\n",
       "        vertical-align: top;\n",
       "    }\n",
       "\n",
       "    .dataframe thead th {\n",
       "        text-align: right;\n",
       "    }\n",
       "</style>\n",
       "<table border=\"1\" class=\"dataframe\">\n",
       "  <thead>\n",
       "    <tr style=\"text-align: right;\">\n",
       "      <th></th>\n",
       "      <th>Lat</th>\n",
       "      <th>Long</th>\n",
       "    </tr>\n",
       "  </thead>\n",
       "  <tbody>\n",
       "    <tr>\n",
       "      <th>0</th>\n",
       "      <td>40.503163</td>\n",
       "      <td>-74.09649</td>\n",
       "    </tr>\n",
       "    <tr>\n",
       "      <th>1</th>\n",
       "      <td>40.521163</td>\n",
       "      <td>-74.09649</td>\n",
       "    </tr>\n",
       "    <tr>\n",
       "      <th>2</th>\n",
       "      <td>40.539163</td>\n",
       "      <td>-74.09649</td>\n",
       "    </tr>\n",
       "    <tr>\n",
       "      <th>3</th>\n",
       "      <td>40.557163</td>\n",
       "      <td>-74.09649</td>\n",
       "    </tr>\n",
       "    <tr>\n",
       "      <th>4</th>\n",
       "      <td>40.575163</td>\n",
       "      <td>-74.09649</td>\n",
       "    </tr>\n",
       "    <tr>\n",
       "      <th>...</th>\n",
       "      <td>...</td>\n",
       "      <td>...</td>\n",
       "    </tr>\n",
       "    <tr>\n",
       "      <th>295</th>\n",
       "      <td>40.683163</td>\n",
       "      <td>-73.81149</td>\n",
       "    </tr>\n",
       "    <tr>\n",
       "      <th>296</th>\n",
       "      <td>40.701163</td>\n",
       "      <td>-73.81149</td>\n",
       "    </tr>\n",
       "    <tr>\n",
       "      <th>297</th>\n",
       "      <td>40.719163</td>\n",
       "      <td>-73.81149</td>\n",
       "    </tr>\n",
       "    <tr>\n",
       "      <th>298</th>\n",
       "      <td>40.737163</td>\n",
       "      <td>-73.81149</td>\n",
       "    </tr>\n",
       "    <tr>\n",
       "      <th>299</th>\n",
       "      <td>40.755163</td>\n",
       "      <td>-73.81149</td>\n",
       "    </tr>\n",
       "  </tbody>\n",
       "</table>\n",
       "<p>300 rows × 2 columns</p>\n",
       "</div>"
      ],
      "text/plain": [
       "           Lat      Long\n",
       "0    40.503163 -74.09649\n",
       "1    40.521163 -74.09649\n",
       "2    40.539163 -74.09649\n",
       "3    40.557163 -74.09649\n",
       "4    40.575163 -74.09649\n",
       "..         ...       ...\n",
       "295  40.683163 -73.81149\n",
       "296  40.701163 -73.81149\n",
       "297  40.719163 -73.81149\n",
       "298  40.737163 -73.81149\n",
       "299  40.755163 -73.81149\n",
       "\n",
       "[300 rows x 2 columns]"
      ]
     },
     "execution_count": 491,
     "metadata": {},
     "output_type": "execute_result"
    }
   ],
   "source": [
    "\n",
    "print(min_long)\n",
    "\n",
    "print(min_long*0.8237 + 101.716042)\n",
    "print(min_alt)\n",
    "\n",
    "df_pred"
   ]
  },
  {
   "cell_type": "code",
   "execution_count": 492,
   "id": "c18de62e",
   "metadata": {},
   "outputs": [
    {
     "ename": "IndexError",
     "evalue": "positional indexers are out-of-bounds",
     "output_type": "error",
     "traceback": [
      "\u001b[0;31m---------------------------------------------------------------------------\u001b[0m",
      "\u001b[0;31mIndexError\u001b[0m                                Traceback (most recent call last)",
      "File \u001b[0;32m~/miniconda3/lib/python3.9/site-packages/pandas/core/indexing.py:1482\u001b[0m, in \u001b[0;36m_iLocIndexer._get_list_axis\u001b[0;34m(self, key, axis)\u001b[0m\n\u001b[1;32m   1481\u001b[0m \u001b[38;5;28;01mtry\u001b[39;00m:\n\u001b[0;32m-> 1482\u001b[0m     \u001b[38;5;28;01mreturn\u001b[39;00m \u001b[38;5;28;43mself\u001b[39;49m\u001b[38;5;241;43m.\u001b[39;49m\u001b[43mobj\u001b[49m\u001b[38;5;241;43m.\u001b[39;49m\u001b[43m_take_with_is_copy\u001b[49m\u001b[43m(\u001b[49m\u001b[43mkey\u001b[49m\u001b[43m,\u001b[49m\u001b[43m \u001b[49m\u001b[43maxis\u001b[49m\u001b[38;5;241;43m=\u001b[39;49m\u001b[43maxis\u001b[49m\u001b[43m)\u001b[49m\n\u001b[1;32m   1483\u001b[0m \u001b[38;5;28;01mexcept\u001b[39;00m \u001b[38;5;167;01mIndexError\u001b[39;00m \u001b[38;5;28;01mas\u001b[39;00m err:\n\u001b[1;32m   1484\u001b[0m     \u001b[38;5;66;03m# re-raise with different error message\u001b[39;00m\n",
      "File \u001b[0;32m~/miniconda3/lib/python3.9/site-packages/pandas/core/generic.py:3716\u001b[0m, in \u001b[0;36mNDFrame._take_with_is_copy\u001b[0;34m(self, indices, axis)\u001b[0m\n\u001b[1;32m   3709\u001b[0m \u001b[38;5;124;03m\"\"\"\u001b[39;00m\n\u001b[1;32m   3710\u001b[0m \u001b[38;5;124;03mInternal version of the `take` method that sets the `_is_copy`\u001b[39;00m\n\u001b[1;32m   3711\u001b[0m \u001b[38;5;124;03mattribute to keep track of the parent dataframe (using in indexing\u001b[39;00m\n\u001b[0;32m   (...)\u001b[0m\n\u001b[1;32m   3714\u001b[0m \u001b[38;5;124;03mSee the docstring of `take` for full explanation of the parameters.\u001b[39;00m\n\u001b[1;32m   3715\u001b[0m \u001b[38;5;124;03m\"\"\"\u001b[39;00m\n\u001b[0;32m-> 3716\u001b[0m result \u001b[38;5;241m=\u001b[39m \u001b[38;5;28;43mself\u001b[39;49m\u001b[38;5;241;43m.\u001b[39;49m\u001b[43mtake\u001b[49m\u001b[43m(\u001b[49m\u001b[43mindices\u001b[49m\u001b[38;5;241;43m=\u001b[39;49m\u001b[43mindices\u001b[49m\u001b[43m,\u001b[49m\u001b[43m \u001b[49m\u001b[43maxis\u001b[49m\u001b[38;5;241;43m=\u001b[39;49m\u001b[43maxis\u001b[49m\u001b[43m)\u001b[49m\n\u001b[1;32m   3717\u001b[0m \u001b[38;5;66;03m# Maybe set copy if we didn't actually change the index.\u001b[39;00m\n",
      "File \u001b[0;32m~/miniconda3/lib/python3.9/site-packages/pandas/core/generic.py:3703\u001b[0m, in \u001b[0;36mNDFrame.take\u001b[0;34m(self, indices, axis, is_copy, **kwargs)\u001b[0m\n\u001b[1;32m   3701\u001b[0m \u001b[38;5;28mself\u001b[39m\u001b[38;5;241m.\u001b[39m_consolidate_inplace()\n\u001b[0;32m-> 3703\u001b[0m new_data \u001b[38;5;241m=\u001b[39m \u001b[38;5;28;43mself\u001b[39;49m\u001b[38;5;241;43m.\u001b[39;49m\u001b[43m_mgr\u001b[49m\u001b[38;5;241;43m.\u001b[39;49m\u001b[43mtake\u001b[49m\u001b[43m(\u001b[49m\n\u001b[1;32m   3704\u001b[0m \u001b[43m    \u001b[49m\u001b[43mindices\u001b[49m\u001b[43m,\u001b[49m\u001b[43m \u001b[49m\u001b[43maxis\u001b[49m\u001b[38;5;241;43m=\u001b[39;49m\u001b[38;5;28;43mself\u001b[39;49m\u001b[38;5;241;43m.\u001b[39;49m\u001b[43m_get_block_manager_axis\u001b[49m\u001b[43m(\u001b[49m\u001b[43maxis\u001b[49m\u001b[43m)\u001b[49m\u001b[43m,\u001b[49m\u001b[43m \u001b[49m\u001b[43mverify\u001b[49m\u001b[38;5;241;43m=\u001b[39;49m\u001b[38;5;28;43;01mTrue\u001b[39;49;00m\n\u001b[1;32m   3705\u001b[0m \u001b[43m\u001b[49m\u001b[43m)\u001b[49m\n\u001b[1;32m   3706\u001b[0m \u001b[38;5;28;01mreturn\u001b[39;00m \u001b[38;5;28mself\u001b[39m\u001b[38;5;241m.\u001b[39m_constructor(new_data)\u001b[38;5;241m.\u001b[39m__finalize__(\u001b[38;5;28mself\u001b[39m, method\u001b[38;5;241m=\u001b[39m\u001b[38;5;124m\"\u001b[39m\u001b[38;5;124mtake\u001b[39m\u001b[38;5;124m\"\u001b[39m)\n",
      "File \u001b[0;32m~/miniconda3/lib/python3.9/site-packages/pandas/core/internals/managers.py:897\u001b[0m, in \u001b[0;36mBaseBlockManager.take\u001b[0;34m(self, indexer, axis, verify)\u001b[0m\n\u001b[1;32m    896\u001b[0m n \u001b[38;5;241m=\u001b[39m \u001b[38;5;28mself\u001b[39m\u001b[38;5;241m.\u001b[39mshape[axis]\n\u001b[0;32m--> 897\u001b[0m indexer \u001b[38;5;241m=\u001b[39m \u001b[43mmaybe_convert_indices\u001b[49m\u001b[43m(\u001b[49m\u001b[43mindexer\u001b[49m\u001b[43m,\u001b[49m\u001b[43m \u001b[49m\u001b[43mn\u001b[49m\u001b[43m,\u001b[49m\u001b[43m \u001b[49m\u001b[43mverify\u001b[49m\u001b[38;5;241;43m=\u001b[39;49m\u001b[43mverify\u001b[49m\u001b[43m)\u001b[49m\n\u001b[1;32m    899\u001b[0m new_labels \u001b[38;5;241m=\u001b[39m \u001b[38;5;28mself\u001b[39m\u001b[38;5;241m.\u001b[39maxes[axis]\u001b[38;5;241m.\u001b[39mtake(indexer)\n",
      "File \u001b[0;32m~/miniconda3/lib/python3.9/site-packages/pandas/core/indexers/utils.py:292\u001b[0m, in \u001b[0;36mmaybe_convert_indices\u001b[0;34m(indices, n, verify)\u001b[0m\n\u001b[1;32m    291\u001b[0m     \u001b[38;5;28;01mif\u001b[39;00m mask\u001b[38;5;241m.\u001b[39many():\n\u001b[0;32m--> 292\u001b[0m         \u001b[38;5;28;01mraise\u001b[39;00m \u001b[38;5;167;01mIndexError\u001b[39;00m(\u001b[38;5;124m\"\u001b[39m\u001b[38;5;124mindices are out-of-bounds\u001b[39m\u001b[38;5;124m\"\u001b[39m)\n\u001b[1;32m    293\u001b[0m \u001b[38;5;28;01mreturn\u001b[39;00m indices\n",
      "\u001b[0;31mIndexError\u001b[0m: indices are out-of-bounds",
      "\nThe above exception was the direct cause of the following exception:\n",
      "\u001b[0;31mIndexError\u001b[0m                                Traceback (most recent call last)",
      "Input \u001b[0;32mIn [492]\u001b[0m, in \u001b[0;36m<cell line: 1>\u001b[0;34m()\u001b[0m\n\u001b[0;32m----> 1\u001b[0m \u001b[43mdf_pred\u001b[49m\u001b[38;5;241;43m.\u001b[39;49m\u001b[43miloc\u001b[49m\u001b[43m[\u001b[49m\u001b[43m[\u001b[49m\u001b[38;5;241;43m300\u001b[39;49m\u001b[43m]\u001b[49m\u001b[43m]\u001b[49m\n",
      "File \u001b[0;32m~/miniconda3/lib/python3.9/site-packages/pandas/core/indexing.py:967\u001b[0m, in \u001b[0;36m_LocationIndexer.__getitem__\u001b[0;34m(self, key)\u001b[0m\n\u001b[1;32m    964\u001b[0m axis \u001b[38;5;241m=\u001b[39m \u001b[38;5;28mself\u001b[39m\u001b[38;5;241m.\u001b[39maxis \u001b[38;5;129;01mor\u001b[39;00m \u001b[38;5;241m0\u001b[39m\n\u001b[1;32m    966\u001b[0m maybe_callable \u001b[38;5;241m=\u001b[39m com\u001b[38;5;241m.\u001b[39mapply_if_callable(key, \u001b[38;5;28mself\u001b[39m\u001b[38;5;241m.\u001b[39mobj)\n\u001b[0;32m--> 967\u001b[0m \u001b[38;5;28;01mreturn\u001b[39;00m \u001b[38;5;28;43mself\u001b[39;49m\u001b[38;5;241;43m.\u001b[39;49m\u001b[43m_getitem_axis\u001b[49m\u001b[43m(\u001b[49m\u001b[43mmaybe_callable\u001b[49m\u001b[43m,\u001b[49m\u001b[43m \u001b[49m\u001b[43maxis\u001b[49m\u001b[38;5;241;43m=\u001b[39;49m\u001b[43maxis\u001b[49m\u001b[43m)\u001b[49m\n",
      "File \u001b[0;32m~/miniconda3/lib/python3.9/site-packages/pandas/core/indexing.py:1511\u001b[0m, in \u001b[0;36m_iLocIndexer._getitem_axis\u001b[0;34m(self, key, axis)\u001b[0m\n\u001b[1;32m   1509\u001b[0m \u001b[38;5;66;03m# a list of integers\u001b[39;00m\n\u001b[1;32m   1510\u001b[0m \u001b[38;5;28;01melif\u001b[39;00m is_list_like_indexer(key):\n\u001b[0;32m-> 1511\u001b[0m     \u001b[38;5;28;01mreturn\u001b[39;00m \u001b[38;5;28;43mself\u001b[39;49m\u001b[38;5;241;43m.\u001b[39;49m\u001b[43m_get_list_axis\u001b[49m\u001b[43m(\u001b[49m\u001b[43mkey\u001b[49m\u001b[43m,\u001b[49m\u001b[43m \u001b[49m\u001b[43maxis\u001b[49m\u001b[38;5;241;43m=\u001b[39;49m\u001b[43maxis\u001b[49m\u001b[43m)\u001b[49m\n\u001b[1;32m   1513\u001b[0m \u001b[38;5;66;03m# a single integer\u001b[39;00m\n\u001b[1;32m   1514\u001b[0m \u001b[38;5;28;01melse\u001b[39;00m:\n\u001b[1;32m   1515\u001b[0m     key \u001b[38;5;241m=\u001b[39m item_from_zerodim(key)\n",
      "File \u001b[0;32m~/miniconda3/lib/python3.9/site-packages/pandas/core/indexing.py:1485\u001b[0m, in \u001b[0;36m_iLocIndexer._get_list_axis\u001b[0;34m(self, key, axis)\u001b[0m\n\u001b[1;32m   1482\u001b[0m     \u001b[38;5;28;01mreturn\u001b[39;00m \u001b[38;5;28mself\u001b[39m\u001b[38;5;241m.\u001b[39mobj\u001b[38;5;241m.\u001b[39m_take_with_is_copy(key, axis\u001b[38;5;241m=\u001b[39maxis)\n\u001b[1;32m   1483\u001b[0m \u001b[38;5;28;01mexcept\u001b[39;00m \u001b[38;5;167;01mIndexError\u001b[39;00m \u001b[38;5;28;01mas\u001b[39;00m err:\n\u001b[1;32m   1484\u001b[0m     \u001b[38;5;66;03m# re-raise with different error message\u001b[39;00m\n\u001b[0;32m-> 1485\u001b[0m     \u001b[38;5;28;01mraise\u001b[39;00m \u001b[38;5;167;01mIndexError\u001b[39;00m(\u001b[38;5;124m\"\u001b[39m\u001b[38;5;124mpositional indexers are out-of-bounds\u001b[39m\u001b[38;5;124m\"\u001b[39m) \u001b[38;5;28;01mfrom\u001b[39;00m \u001b[38;5;21;01merr\u001b[39;00m\n",
      "\u001b[0;31mIndexError\u001b[0m: positional indexers are out-of-bounds"
     ]
    }
   ],
   "source": [
    "df_pred.iloc[[300]]\n"
   ]
  },
  {
   "cell_type": "code",
   "execution_count": 493,
   "id": "6bdc3065",
   "metadata": {},
   "outputs": [
    {
     "data": {
      "text/html": [
       "<div>\n",
       "<style scoped>\n",
       "    .dataframe tbody tr th:only-of-type {\n",
       "        vertical-align: middle;\n",
       "    }\n",
       "\n",
       "    .dataframe tbody tr th {\n",
       "        vertical-align: top;\n",
       "    }\n",
       "\n",
       "    .dataframe thead th {\n",
       "        text-align: right;\n",
       "    }\n",
       "</style>\n",
       "<table border=\"1\" class=\"dataframe\">\n",
       "  <thead>\n",
       "    <tr style=\"text-align: right;\">\n",
       "      <th></th>\n",
       "      <th>Lat</th>\n",
       "      <th>Long</th>\n",
       "    </tr>\n",
       "  </thead>\n",
       "  <tbody>\n",
       "    <tr>\n",
       "      <th>0</th>\n",
       "      <td>40.503163</td>\n",
       "      <td>-74.09649</td>\n",
       "    </tr>\n",
       "    <tr>\n",
       "      <th>1</th>\n",
       "      <td>40.521163</td>\n",
       "      <td>-74.09649</td>\n",
       "    </tr>\n",
       "    <tr>\n",
       "      <th>2</th>\n",
       "      <td>40.539163</td>\n",
       "      <td>-74.09649</td>\n",
       "    </tr>\n",
       "    <tr>\n",
       "      <th>3</th>\n",
       "      <td>40.557163</td>\n",
       "      <td>-74.09649</td>\n",
       "    </tr>\n",
       "    <tr>\n",
       "      <th>4</th>\n",
       "      <td>40.575163</td>\n",
       "      <td>-74.09649</td>\n",
       "    </tr>\n",
       "    <tr>\n",
       "      <th>...</th>\n",
       "      <td>...</td>\n",
       "      <td>...</td>\n",
       "    </tr>\n",
       "    <tr>\n",
       "      <th>295</th>\n",
       "      <td>40.683163</td>\n",
       "      <td>-73.81149</td>\n",
       "    </tr>\n",
       "    <tr>\n",
       "      <th>296</th>\n",
       "      <td>40.701163</td>\n",
       "      <td>-73.81149</td>\n",
       "    </tr>\n",
       "    <tr>\n",
       "      <th>297</th>\n",
       "      <td>40.719163</td>\n",
       "      <td>-73.81149</td>\n",
       "    </tr>\n",
       "    <tr>\n",
       "      <th>298</th>\n",
       "      <td>40.737163</td>\n",
       "      <td>-73.81149</td>\n",
       "    </tr>\n",
       "    <tr>\n",
       "      <th>299</th>\n",
       "      <td>40.755163</td>\n",
       "      <td>-73.81149</td>\n",
       "    </tr>\n",
       "  </tbody>\n",
       "</table>\n",
       "<p>300 rows × 2 columns</p>\n",
       "</div>"
      ],
      "text/plain": [
       "           Lat      Long\n",
       "0    40.503163 -74.09649\n",
       "1    40.521163 -74.09649\n",
       "2    40.539163 -74.09649\n",
       "3    40.557163 -74.09649\n",
       "4    40.575163 -74.09649\n",
       "..         ...       ...\n",
       "295  40.683163 -73.81149\n",
       "296  40.701163 -73.81149\n",
       "297  40.719163 -73.81149\n",
       "298  40.737163 -73.81149\n",
       "299  40.755163 -73.81149\n",
       "\n",
       "[300 rows x 2 columns]"
      ]
     },
     "execution_count": 493,
     "metadata": {},
     "output_type": "execute_result"
    }
   ],
   "source": [
    "X_test = df_pred[['Lat', 'Long']]\n",
    "y_pred = model.predict(X_test)\n",
    "X_test"
   ]
  },
  {
   "cell_type": "code",
   "execution_count": 494,
   "id": "04960ca2",
   "metadata": {},
   "outputs": [
    {
     "data": {
      "text/plain": [
       "array([1350.        , 1350.        , 1350.        , 1350.        ,\n",
       "       1350.        , 1500.        , 1850.        , 1650.        ,\n",
       "       3400.        , 2800.        , 2950.        , 3279.16666667,\n",
       "       5000.        , 5000.        , 5000.        , 1350.        ,\n",
       "       1350.        , 1350.        , 1350.        , 1350.        ,\n",
       "       1500.        , 1850.        , 1650.        , 3400.        ,\n",
       "       2800.        , 2950.        , 3279.16666667, 5000.        ,\n",
       "       5000.        , 5000.        , 1350.        , 1350.        ,\n",
       "       1350.        , 1350.        , 1350.        , 1550.        ,\n",
       "       1850.        , 1650.        , 3400.        , 2800.        ,\n",
       "       2950.        , 3279.16666667, 5000.        , 5000.        ,\n",
       "       5000.        , 1350.        , 1350.        , 1350.        ,\n",
       "       1350.        , 1350.        , 1550.        , 2350.        ,\n",
       "       1650.        , 3400.        , 2800.        , 2950.        ,\n",
       "       3279.16666667, 5000.        , 5000.        , 5000.        ,\n",
       "       1350.        , 1350.        , 1350.        , 1350.        ,\n",
       "       1350.        , 1550.        , 2350.        , 1650.        ,\n",
       "       3400.        , 2800.        , 2950.        , 3279.16666667,\n",
       "       5000.        , 5000.        , 5000.        , 1350.        ,\n",
       "       1350.        , 1350.        , 1350.        , 1350.        ,\n",
       "       1550.        , 2350.        , 2600.        , 3400.        ,\n",
       "       2800.        , 2950.        , 3279.16666667, 5000.        ,\n",
       "       5000.        , 5000.        , 1350.        , 1350.        ,\n",
       "       1350.        , 1350.        , 1350.        , 1550.        ,\n",
       "       2350.        , 2600.        , 3400.        , 2800.        ,\n",
       "       2950.        , 4764.        , 4045.        , 4295.        ,\n",
       "       7750.        , 1350.        , 1350.        , 1350.        ,\n",
       "       1350.        , 1350.        , 1100.        , 1100.        ,\n",
       "       2495.        , 3400.        , 2800.        , 2950.        ,\n",
       "       4800.        , 6400.        , 8900.        , 4516.66666667,\n",
       "       1350.        , 1350.        , 1350.        , 1350.        ,\n",
       "       1350.        , 1100.        , 1100.        , 2495.        ,\n",
       "       3400.        , 2800.        , 3799.        , 3283.33333333,\n",
       "       3795.        , 3649.        , 4087.5       , 1350.        ,\n",
       "       1350.        , 1350.        , 1350.        , 1350.        ,\n",
       "       2000.        , 2000.        , 2495.        , 3400.        ,\n",
       "       3400.        , 3595.        , 3283.33333333, 5660.        ,\n",
       "       4415.        , 4000.        , 1350.        , 1350.        ,\n",
       "       1350.        , 1350.        , 1350.        , 2000.        ,\n",
       "       2000.        , 2495.        , 2929.33333333, 2929.33333333,\n",
       "       3700.        , 3283.33333333, 3250.        , 3250.        ,\n",
       "       3250.        , 1600.        , 1600.        , 1600.        ,\n",
       "       1600.        , 1600.        , 2100.        , 2100.        ,\n",
       "       2383.        , 1570.        , 1875.        , 2150.        ,\n",
       "       2150.        , 2700.        , 2795.        , 2795.        ,\n",
       "       3775.        , 3775.        , 3775.        , 3775.        ,\n",
       "       3775.        , 3775.        , 3775.        , 3775.        ,\n",
       "       3775.        , 3775.        , 2300.        , 2900.        ,\n",
       "       2900.        , 2900.        , 2900.        , 1765.        ,\n",
       "       1765.        , 1765.        , 1765.        , 1765.        ,\n",
       "       1765.        , 1765.        , 1765.        , 1765.        ,\n",
       "       1765.        , 1765.        , 2895.        , 2000.        ,\n",
       "       1700.        , 2500.        , 1800.        , 1800.        ,\n",
       "       1800.        , 1800.        , 1800.        , 1800.        ,\n",
       "       1800.        , 1800.        , 1800.        , 1800.        ,\n",
       "       1800.        , 2895.        , 2000.        , 1700.        ,\n",
       "       2000.        , 1600.        , 1600.        , 1600.        ,\n",
       "       1600.        , 1600.        , 1600.        , 1600.        ,\n",
       "       1600.        , 1600.        , 1600.        , 1600.        ,\n",
       "       2895.        , 1950.        , 1950.        , 1900.        ,\n",
       "       1800.        , 1800.        , 1800.        , 1800.        ,\n",
       "       1800.        , 1800.        , 1800.        , 1800.        ,\n",
       "       1700.        , 1700.        , 1700.        , 2895.        ,\n",
       "       1750.        , 2200.        , 1650.        , 2100.        ,\n",
       "       2100.        , 2100.        , 2100.        , 2100.        ,\n",
       "       2100.        , 2100.        , 2325.        , 2325.        ,\n",
       "       2325.        , 2800.        , 1875.        , 2000.        ,\n",
       "       1900.        , 2850.        , 2100.        , 2100.        ,\n",
       "       2100.        , 2100.        , 2100.        , 2100.        ,\n",
       "       2100.        , 2325.        , 2325.        , 2325.        ,\n",
       "       2800.        , 1875.        , 2000.        , 1900.        ,\n",
       "       1750.        , 2100.        , 2100.        , 2100.        ,\n",
       "       2100.        , 2100.        , 2100.        , 2100.        ,\n",
       "       2325.        , 2325.        , 2325.        , 2800.        ,\n",
       "       1875.        , 2000.        , 1880.        , 1450.        ])"
      ]
     },
     "execution_count": 494,
     "metadata": {},
     "output_type": "execute_result"
    }
   ],
   "source": [
    "y_pred"
   ]
  },
  {
   "cell_type": "code",
   "execution_count": 495,
   "id": "4fba53d7",
   "metadata": {},
   "outputs": [],
   "source": [
    "df_final = df_pred.assign(Price = y_pred)"
   ]
  },
  {
   "cell_type": "code",
   "execution_count": 496,
   "id": "0338b0fe",
   "metadata": {},
   "outputs": [
    {
     "data": {
      "text/html": [
       "<div>\n",
       "<style scoped>\n",
       "    .dataframe tbody tr th:only-of-type {\n",
       "        vertical-align: middle;\n",
       "    }\n",
       "\n",
       "    .dataframe tbody tr th {\n",
       "        vertical-align: top;\n",
       "    }\n",
       "\n",
       "    .dataframe thead th {\n",
       "        text-align: right;\n",
       "    }\n",
       "</style>\n",
       "<table border=\"1\" class=\"dataframe\">\n",
       "  <thead>\n",
       "    <tr style=\"text-align: right;\">\n",
       "      <th></th>\n",
       "      <th>Lat</th>\n",
       "      <th>Long</th>\n",
       "      <th>Price</th>\n",
       "    </tr>\n",
       "  </thead>\n",
       "  <tbody>\n",
       "    <tr>\n",
       "      <th>0</th>\n",
       "      <td>40.503163</td>\n",
       "      <td>-74.09649</td>\n",
       "      <td>1350.0</td>\n",
       "    </tr>\n",
       "    <tr>\n",
       "      <th>1</th>\n",
       "      <td>40.521163</td>\n",
       "      <td>-74.09649</td>\n",
       "      <td>1350.0</td>\n",
       "    </tr>\n",
       "    <tr>\n",
       "      <th>2</th>\n",
       "      <td>40.539163</td>\n",
       "      <td>-74.09649</td>\n",
       "      <td>1350.0</td>\n",
       "    </tr>\n",
       "    <tr>\n",
       "      <th>3</th>\n",
       "      <td>40.557163</td>\n",
       "      <td>-74.09649</td>\n",
       "      <td>1350.0</td>\n",
       "    </tr>\n",
       "    <tr>\n",
       "      <th>4</th>\n",
       "      <td>40.575163</td>\n",
       "      <td>-74.09649</td>\n",
       "      <td>1350.0</td>\n",
       "    </tr>\n",
       "    <tr>\n",
       "      <th>...</th>\n",
       "      <td>...</td>\n",
       "      <td>...</td>\n",
       "      <td>...</td>\n",
       "    </tr>\n",
       "    <tr>\n",
       "      <th>295</th>\n",
       "      <td>40.683163</td>\n",
       "      <td>-73.81149</td>\n",
       "      <td>2800.0</td>\n",
       "    </tr>\n",
       "    <tr>\n",
       "      <th>296</th>\n",
       "      <td>40.701163</td>\n",
       "      <td>-73.81149</td>\n",
       "      <td>1875.0</td>\n",
       "    </tr>\n",
       "    <tr>\n",
       "      <th>297</th>\n",
       "      <td>40.719163</td>\n",
       "      <td>-73.81149</td>\n",
       "      <td>2000.0</td>\n",
       "    </tr>\n",
       "    <tr>\n",
       "      <th>298</th>\n",
       "      <td>40.737163</td>\n",
       "      <td>-73.81149</td>\n",
       "      <td>1880.0</td>\n",
       "    </tr>\n",
       "    <tr>\n",
       "      <th>299</th>\n",
       "      <td>40.755163</td>\n",
       "      <td>-73.81149</td>\n",
       "      <td>1450.0</td>\n",
       "    </tr>\n",
       "  </tbody>\n",
       "</table>\n",
       "<p>300 rows × 3 columns</p>\n",
       "</div>"
      ],
      "text/plain": [
       "           Lat      Long   Price\n",
       "0    40.503163 -74.09649  1350.0\n",
       "1    40.521163 -74.09649  1350.0\n",
       "2    40.539163 -74.09649  1350.0\n",
       "3    40.557163 -74.09649  1350.0\n",
       "4    40.575163 -74.09649  1350.0\n",
       "..         ...       ...     ...\n",
       "295  40.683163 -73.81149  2800.0\n",
       "296  40.701163 -73.81149  1875.0\n",
       "297  40.719163 -73.81149  2000.0\n",
       "298  40.737163 -73.81149  1880.0\n",
       "299  40.755163 -73.81149  1450.0\n",
       "\n",
       "[300 rows x 3 columns]"
      ]
     },
     "execution_count": 496,
     "metadata": {},
     "output_type": "execute_result"
    }
   ],
   "source": [
    "df_final"
   ]
  },
  {
   "cell_type": "code",
   "execution_count": 497,
   "id": "d2b9d1a3",
   "metadata": {},
   "outputs": [
    {
     "data": {
      "text/plain": [
       "(array([ 4., 55.,  8., 28., 39., 16., 25., 11., 10.,  2., 15., 19.,  0.,\n",
       "        12., 11.,  1.,  2., 12.,  2.,  1.,  1.,  2.,  0.,  2.,  0., 18.,\n",
       "         0.,  0.,  0.,  1.,  0.,  0.,  0.,  1.,  0.,  0.,  0.,  0.,  0.,\n",
       "         0.,  0.,  0.,  1.,  0.,  0.,  0.,  0.,  0.,  0.,  1.]),\n",
       " array([1100., 1256., 1412., 1568., 1724., 1880., 2036., 2192., 2348.,\n",
       "        2504., 2660., 2816., 2972., 3128., 3284., 3440., 3596., 3752.,\n",
       "        3908., 4064., 4220., 4376., 4532., 4688., 4844., 5000., 5156.,\n",
       "        5312., 5468., 5624., 5780., 5936., 6092., 6248., 6404., 6560.,\n",
       "        6716., 6872., 7028., 7184., 7340., 7496., 7652., 7808., 7964.,\n",
       "        8120., 8276., 8432., 8588., 8744., 8900.]),\n",
       " <BarContainer object of 50 artists>)"
      ]
     },
     "execution_count": 497,
     "metadata": {},
     "output_type": "execute_result"
    },
    {
     "data": {
      "image/png": "[encoded data removed]",
      "text/plain": [
       "<Figure size 612x468 with 3 Axes>"
      ]
     },
     "metadata": {
      "needs_background": "light"
     },
     "output_type": "display_data"
    }
   ],
   "source": [
    "\n",
    "fig, axs = plt.subplots(3)\n",
    "fig.set_size_inches(8.5, 6.5)\n",
    "fig.suptitle('Histograms of  latitude, longitude, price')\n",
    "axs[0].hist(df_final['Lat'], bins=50)\n",
    "axs[1].hist(df_final['Long'], bins = 50)\n",
    "axs[2].hist(df_final['Price'], bins = 50)"
   ]
  },
  {
   "cell_type": "code",
   "execution_count": null,
   "id": "25254a78",
   "metadata": {},
   "outputs": [],
   "source": []
  },
  {
   "cell_type": "code",
   "execution_count": 498,
   "id": "ab1ef3b3",
   "metadata": {},
   "outputs": [
    {
     "data": {
      "image/png": "[encoded data removed]",
      "text/plain": [
       "<Figure size 432x288 with 2 Axes>"
      ]
     },
     "metadata": {
      "needs_background": "light"
     },
     "output_type": "display_data"
    }
   ],
   "source": [
    "%matplotlib inline\n",
    "fig = plt.figure()\n",
    "ax = plt.axes(projection='3d')\n",
    "\n",
    "ax = plt.axes(projection='3d')\n",
    "\n",
    "\n",
    "\n",
    "# Data for three-dimensional scattered points\n",
    "zdata = df_final['Price']\n",
    "xdata = df_final['Lat']\n",
    "ydata = df_final['Long']\n",
    "ax.scatter3D(xdata, ydata, zdata, c=zdata, cmap='viridis');"
   ]
  },
  {
   "cell_type": "code",
   "execution_count": 499,
   "id": "580e5a55",
   "metadata": {},
   "outputs": [
    {
     "data": {
      "text/html": [
       "<div>\n",
       "<style scoped>\n",
       "    .dataframe tbody tr th:only-of-type {\n",
       "        vertical-align: middle;\n",
       "    }\n",
       "\n",
       "    .dataframe tbody tr th {\n",
       "        vertical-align: top;\n",
       "    }\n",
       "\n",
       "    .dataframe thead th {\n",
       "        text-align: right;\n",
       "    }\n",
       "</style>\n",
       "<table border=\"1\" class=\"dataframe\">\n",
       "  <thead>\n",
       "    <tr style=\"text-align: right;\">\n",
       "      <th></th>\n",
       "      <th>Lat</th>\n",
       "      <th>Long</th>\n",
       "      <th>Price</th>\n",
       "    </tr>\n",
       "  </thead>\n",
       "  <tbody>\n",
       "    <tr>\n",
       "      <th>0</th>\n",
       "      <td>40.503163</td>\n",
       "      <td>-74.09649</td>\n",
       "      <td>1350.0</td>\n",
       "    </tr>\n",
       "    <tr>\n",
       "      <th>1</th>\n",
       "      <td>40.521163</td>\n",
       "      <td>-74.09649</td>\n",
       "      <td>1350.0</td>\n",
       "    </tr>\n",
       "    <tr>\n",
       "      <th>2</th>\n",
       "      <td>40.539163</td>\n",
       "      <td>-74.09649</td>\n",
       "      <td>1350.0</td>\n",
       "    </tr>\n",
       "    <tr>\n",
       "      <th>3</th>\n",
       "      <td>40.557163</td>\n",
       "      <td>-74.09649</td>\n",
       "      <td>1350.0</td>\n",
       "    </tr>\n",
       "    <tr>\n",
       "      <th>4</th>\n",
       "      <td>40.575163</td>\n",
       "      <td>-74.09649</td>\n",
       "      <td>1350.0</td>\n",
       "    </tr>\n",
       "    <tr>\n",
       "      <th>...</th>\n",
       "      <td>...</td>\n",
       "      <td>...</td>\n",
       "      <td>...</td>\n",
       "    </tr>\n",
       "    <tr>\n",
       "      <th>295</th>\n",
       "      <td>40.683163</td>\n",
       "      <td>-73.81149</td>\n",
       "      <td>2800.0</td>\n",
       "    </tr>\n",
       "    <tr>\n",
       "      <th>296</th>\n",
       "      <td>40.701163</td>\n",
       "      <td>-73.81149</td>\n",
       "      <td>1875.0</td>\n",
       "    </tr>\n",
       "    <tr>\n",
       "      <th>297</th>\n",
       "      <td>40.719163</td>\n",
       "      <td>-73.81149</td>\n",
       "      <td>2000.0</td>\n",
       "    </tr>\n",
       "    <tr>\n",
       "      <th>298</th>\n",
       "      <td>40.737163</td>\n",
       "      <td>-73.81149</td>\n",
       "      <td>1880.0</td>\n",
       "    </tr>\n",
       "    <tr>\n",
       "      <th>299</th>\n",
       "      <td>40.755163</td>\n",
       "      <td>-73.81149</td>\n",
       "      <td>1450.0</td>\n",
       "    </tr>\n",
       "  </tbody>\n",
       "</table>\n",
       "<p>300 rows × 3 columns</p>\n",
       "</div>"
      ],
      "text/plain": [
       "           Lat      Long   Price\n",
       "0    40.503163 -74.09649  1350.0\n",
       "1    40.521163 -74.09649  1350.0\n",
       "2    40.539163 -74.09649  1350.0\n",
       "3    40.557163 -74.09649  1350.0\n",
       "4    40.575163 -74.09649  1350.0\n",
       "..         ...       ...     ...\n",
       "295  40.683163 -73.81149  2800.0\n",
       "296  40.701163 -73.81149  1875.0\n",
       "297  40.719163 -73.81149  2000.0\n",
       "298  40.737163 -73.81149  1880.0\n",
       "299  40.755163 -73.81149  1450.0\n",
       "\n",
       "[300 rows x 3 columns]"
      ]
     },
     "execution_count": 499,
     "metadata": {},
     "output_type": "execute_result"
    }
   ],
   "source": [
    "df_final"
   ]
  },
  {
   "cell_type": "code",
   "execution_count": 500,
   "id": "6e7117be",
   "metadata": {},
   "outputs": [],
   "source": [
    "df_final.to_csv('new-york_coordsPred.csv')"
   ]
  },
  {
   "cell_type": "code",
   "execution_count": null,
   "id": "ec0ac246",
   "metadata": {},
   "outputs": [],
   "source": []
  },
  {
   "cell_type": "code",
   "execution_count": null,
   "id": "ae9c2435",
   "metadata": {},
   "outputs": [],
   "source": [
    "\n"
   ]
  },
  {
   "cell_type": "code",
   "execution_count": 437,
   "id": "c52db4e9",
   "metadata": {},
   "outputs": [
    {
     "data": {
      "text/plain": [
       "array([[1., 1., 1., 1., 1.],\n",
       "       [1., 1., 1., 1., 1.],\n",
       "       [1., 1., 1., 1., 1.],\n",
       "       [1., 1., 1., 1., 1.],\n",
       "       [1., 1., 1., 1., 1.]])"
      ]
     },
     "execution_count": 437,
     "metadata": {},
     "output_type": "execute_result"
    }
   ],
   "source": [
    "arr1 = np.zeros([5,5])\n",
    "arr2 = np.zeros([5,5])\n",
    "arr"
   ]
  },
  {
   "cell_type": "code",
   "execution_count": 438,
   "id": "a768a844",
   "metadata": {},
   "outputs": [],
   "source": [
    "k = 0\n",
    "l = 4\n",
    "\n",
    "for i in range(5):\n",
    "    k = 0\n",
    "    for j in range(5):\n",
    "        arr1[i][j] = k\n",
    "        arr2[i][j] = l\n",
    "        k += 1\n",
    "    l -= 1"
   ]
  },
  {
   "cell_type": "code",
   "execution_count": 304,
   "id": "8f47c1d7",
   "metadata": {},
   "outputs": [
    {
     "data": {
      "text/plain": [
       "array([[0., 1., 2., 3., 4.],\n",
       "       [0., 1., 2., 3., 4.],\n",
       "       [0., 1., 2., 3., 4.],\n",
       "       [0., 1., 2., 3., 4.],\n",
       "       [0., 1., 2., 3., 4.]])"
      ]
     },
     "execution_count": 304,
     "metadata": {},
     "output_type": "execute_result"
    }
   ],
   "source": [
    "arr1"
   ]
  },
  {
   "cell_type": "code",
   "execution_count": 305,
   "id": "fd640aa8",
   "metadata": {},
   "outputs": [
    {
     "data": {
      "text/plain": [
       "array([[4., 4., 4., 4., 4.],\n",
       "       [3., 3., 3., 3., 3.],\n",
       "       [2., 2., 2., 2., 2.],\n",
       "       [1., 1., 1., 1., 1.],\n",
       "       [0., 0., 0., 0., 0.]])"
      ]
     },
     "execution_count": 305,
     "metadata": {},
     "output_type": "execute_result"
    }
   ],
   "source": [
    "arr2"
   ]
  },
  {
   "cell_type": "code",
   "execution_count": null,
   "id": "1829fe7a",
   "metadata": {},
   "outputs": [],
   "source": []
  }
 ],
 "metadata": {
  "kernelspec": {
   "display_name": "Python 3 (ipykernel)",
   "language": "python",
   "name": "python3"
  },
  "language_info": {
   "codemirror_mode": {
    "name": "ipython",
    "version": 3
   },
   "file_extension": ".py",
   "mimetype": "text/x-python",
   "name": "python",
   "nbconvert_exporter": "python",
   "pygments_lexer": "ipython3",
   "version": "3.9.12"
  }
 },
 "nbformat": 4,
 "nbformat_minor": 5
}
